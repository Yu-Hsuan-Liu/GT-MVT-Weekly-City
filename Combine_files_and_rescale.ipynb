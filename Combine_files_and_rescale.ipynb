{
 "cells": [
  {
   "cell_type": "markdown",
   "id": "4cfdf14a",
   "metadata": {},
   "source": [
    "# GT and Motor Vehicle Theft in Cities in the United States"
   ]
  },
  {
   "cell_type": "markdown",
   "id": "1b6be3b5",
   "metadata": {},
   "source": [
    "## GT Weekly City level data"
   ]
  },
  {
   "cell_type": "code",
   "execution_count": 434,
   "id": "a55f5680",
   "metadata": {},
   "outputs": [],
   "source": [
    "import pandas as pd\n",
    "import numpy as np\n",
    "import os\n",
    "import re\n",
    "import glob\n",
    "from sklearn.preprocessing import MinMaxScaler"
   ]
  },
  {
   "cell_type": "code",
   "execution_count": 435,
   "id": "5b3dadd6",
   "metadata": {},
   "outputs": [],
   "source": [
    "# Top 50 the most populous cities in the U.S.\n",
    "c = {\n",
    "    \"US-NY-501\":\"New York NY\",\n",
    "    \"US-CA-807\":\"San Francisco-Oakland-San Jose CA\", #including Oakland, CA and San Jose CA\n",
    "    \"US-CA-803\":\"Los Angeles CA\", #including Long Beach, CA\n",
    "    \"US-CA-825\":\"San Diego CA\", \n",
    "    \"US-CA-807\":\"Sacramento-Stockton-Modesto CA\",\n",
    "    \"US-AZ-753\":\"Phoenix AZ\", #including Mesa, AZ\n",
    "    \"US-MI-505\":\"Detroit MI\",\n",
    "    \"US-NC-517\" : \"Charlotte NC\",\n",
    "    \"US-OH-535\" : \"Columbus OH\",\n",
    "    \"US-FL-561\" : \"Jacksonville FL\",\n",
    "    \"US-MD-511\" : \"Washington DC (Hagerstown MD)\", # including Arlington VA\n",
    "    \"US-OK-650\" : \"Oklahoma City OK\",\n",
    "    \"US-TX-765\" : \"El Paso TX\",\n",
    "    \"US-OR-820\" : \"Portland OR\",\n",
    "    \"US-MD-512\" : \"Baltimore MD\",\n",
    "    \"US-WI-617\" : \"Milwaukee WI\",\n",
    "    \"US-NM-790\" : \"Albuquerque-Santa Fe NM\",\n",
    "    \"US-CA-866\" : \"Fresno-Visalia CA\",\n",
    "    \"US-MO-616\" : \"Kansas City MO\",\n",
    "    \"US-NE-652\" : \"Omaha NE\",\n",
    "    \"US-CO-752\" : \"Colorado Springs-Pueblo CO\",\n",
    "    \"US-NC-560\" : \"Raleigh-Durham (Fayetteville) NC\",\n",
    "    \"US-VA-544\" : \"Norfolk-Portsmouth-Newport News VA\", #including Virginia Beach, VA\n",
    "    \"US-FL-528\" : \"Miami-Ft. Lauderdale FL\",\n",
    "    \"US-CA-800\" : \"Bakersfield CA\",\n",
    "    \"US-OK-671\" : \"Tulsa OK\",\n",
    "    \"US-KS-678\" : \"Wichita-Hutchinson KS\"  ,\n",
    "    \"US-NV-839\":\"Las Vegas NV\",\n",
    "    \"US-WA-819\":\"Seattle-Tacoma WA\",\n",
    "    \"US-CO-751\":\"Denver CO\", #including Aurora, CO\n",
    "    \"US-PA-504\":\"Philadelphia PA\",\n",
    "    \"US-GA-524\":\"Atlanta GA\",\n",
    "    \"US-IN-602\":\"Chicago IL\",\n",
    "    \"US-NH-506\":\"Boston MA-Manchester NH\",\n",
    "    \"CA-ON\":\"Ontario\",\n",
    "    \"US-KY-529\" : \"Louisville KY\",\n",
    "    \"US-TN-640\" : \"Memphis TN\",\n",
    "    \"US-WI-613\" : \"Minneapolis-St. Paul MN\",\n",
    "    \"US-TN-659\" : \"Nashville TN\",\n",
    "    \"US-AZ-789\" : \"Tucson AZ\",\n",
    "    \"US-TX-623\" : \"Dallas-Ft. Worth TX\", # including Fort Worth, TX\n",
    "    \"US-TX-641\" : \"San Antonio TX\",\n",
    "    \"US-TX-618\" : \"Houston TX\",\n",
    "    \"US-TX-635\" : \"Austin TX\",\n",
    "}"
   ]
  },
  {
   "cell_type": "code",
   "execution_count": 436,
   "id": "a438e2fe",
   "metadata": {},
   "outputs": [],
   "source": [
    "filelist = os.listdir()"
   ]
  },
  {
   "cell_type": "code",
   "execution_count": 437,
   "id": "0de83f63",
   "metadata": {},
   "outputs": [],
   "source": [
    "#get city name\n",
    "for city_name in region_code_dict.values():\n",
    "    #get the list of files which contain 'city_name'\n",
    "    city_file_list = glob.glob(f\"{city_name}_weekly_[0-9]*\")\n",
    "    #empty list to store temp_df\n",
    "    list1 = []\n",
    "    for file_name in city_file_list:\n",
    "        temp_df = pd.read_csv(file_name, index_col=0)\n",
    "        list1.append(temp_df)\n",
    "    #concate temp_dfs and drop duplicated date columns and calculate the mean\n",
    "    df1 = pd.concat(list1, axis=1)\n",
    "    final_df_mean = df1.T.drop_duplicates().T.mean(axis = 1)\n",
    "    #normalize data to maximum = 100 (similar as Google Trends)\n",
    "    final_df_mean = round(final_df_mean/final_df_mean.max()*100, 3)\n",
    "    \n",
    "    #add index name and column name\n",
    "    final_df_mean.index.name = 'date'\n",
    "    final_df_mean.name = city_name\n",
    "    #write into a total csv file\n",
    "    final_df_mean.sort_index().to_csv(f'{city_name}_weekly_total.csv')\n",
    "\n"
   ]
  },
  {
   "cell_type": "code",
   "execution_count": 438,
   "id": "4b037ae0",
   "metadata": {},
   "outputs": [],
   "source": [
    "#combine all citie's mean values into one csv file\n",
    "city_total_list = glob.glob(f\"*total.csv\")\n",
    "list2 = []\n",
    "for file_name in city_total_list:\n",
    "    temp_df2 = pd.read_csv(file_name, index_col=0)\n",
    "    list2.append(temp_df2)\n",
    "    import pdb\n",
    "    #pdb.set_trace()\n",
    "df2 = pd.concat(list2, axis=1)\n",
    "\n",
    "\n",
    "df2.sort_index().to_csv(f'all_cities_weekly.csv')"
   ]
  },
  {
   "cell_type": "code",
   "execution_count": 439,
   "id": "148e35d2",
   "metadata": {},
   "outputs": [],
   "source": [
    "#keep the colums with less than 20% missing values\n",
    "keep_columns = df2.columns[df2.isna().sum()/len(df2)*100 < 25]\n",
    "df3 = df2[keep_columns]"
   ]
  },
  {
   "cell_type": "code",
   "execution_count": 440,
   "id": "21acc4c2",
   "metadata": {},
   "outputs": [
    {
     "name": "stderr",
     "output_type": "stream",
     "text": [
      "C:\\Users\\tosea\\AppData\\Local\\Temp\\ipykernel_53664\\2683336654.py:1: SettingWithCopyWarning: \n",
      "A value is trying to be set on a copy of a slice from a DataFrame\n",
      "\n",
      "See the caveats in the documentation: https://pandas.pydata.org/pandas-docs/stable/user_guide/indexing.html#returning-a-view-versus-a-copy\n",
      "  df3.interpolate(method ='linear', limit_direction ='backward', inplace=True)\n",
      "C:\\Users\\tosea\\AppData\\Local\\Temp\\ipykernel_53664\\2683336654.py:2: SettingWithCopyWarning: \n",
      "A value is trying to be set on a copy of a slice from a DataFrame\n",
      "\n",
      "See the caveats in the documentation: https://pandas.pydata.org/pandas-docs/stable/user_guide/indexing.html#returning-a-view-versus-a-copy\n",
      "  df3.interpolate(method ='linear', limit_direction ='forward', inplace=True)\n"
     ]
    }
   ],
   "source": [
    "df3.interpolate(method ='linear', limit_direction ='backward', inplace=True)\n",
    "df3.interpolate(method ='linear', limit_direction ='forward', inplace=True)"
   ]
  },
  {
   "cell_type": "code",
   "execution_count": 457,
   "id": "ca45a7b3",
   "metadata": {},
   "outputs": [],
   "source": [
    "#plus one day to align with city level data\n",
    "df3.index = pd.to_datetime(df3.index) + pd.Timedelta(1, unit=\"day\")"
   ]
  },
  {
   "cell_type": "code",
   "execution_count": 458,
   "id": "7a083b25",
   "metadata": {},
   "outputs": [],
   "source": [
    "df4 = df3.stack()"
   ]
  },
  {
   "cell_type": "code",
   "execution_count": 459,
   "id": "94105f21",
   "metadata": {},
   "outputs": [
    {
     "data": {
      "text/plain": [
       "date                                      \n",
       "2017-01-02  Albuquerque-Santa Fe NM           30.571\n",
       "            Atlanta GA                        43.565\n",
       "            Austin TX                         34.667\n",
       "            Baltimore MD                      24.000\n",
       "            Boston MA-Manchester NH           27.228\n",
       "                                               ...  \n",
       "2022-12-26  Sacramento-Stockton-Modesto CA    55.527\n",
       "            San Antonio TX                    23.371\n",
       "            San Diego CA                      41.790\n",
       "            Seattle-Tacoma WA                 42.658\n",
       "            Washington DC (Hagerstown MD)     63.326\n",
       "Length: 10016, dtype: float64"
      ]
     },
     "execution_count": 459,
     "metadata": {},
     "output_type": "execute_result"
    }
   ],
   "source": [
    "df4"
   ]
  },
  {
   "cell_type": "markdown",
   "id": "8ebc0ea4",
   "metadata": {},
   "source": [
    "## Crime Counts Data \n",
    "Ashby, M.P.J. Initial evidence on the relationship between the coronavirus pandemic and crime in the United States. Crime Sci 9, 6 (2020). https://doi.org/10.1186/s40163-020-00117-6"
   ]
  },
  {
   "cell_type": "code",
   "execution_count": 443,
   "id": "0cad129d",
   "metadata": {},
   "outputs": [],
   "source": [
    "crime_count_df = pd.read_csv(\"crime_counts (Matthew P J Ashby).csv\")"
   ]
  },
  {
   "cell_type": "code",
   "execution_count": 444,
   "id": "ad4a3256",
   "metadata": {},
   "outputs": [],
   "source": [
    "crime_count_df = crime_count_df[crime_count_df.category.str.contains(\"theft of vehicle\")]"
   ]
  },
  {
   "cell_type": "code",
   "execution_count": 445,
   "id": "e32a4a42",
   "metadata": {},
   "outputs": [],
   "source": [
    "crime_count_df2 = crime_count_df.iloc[:,[0,2,4]]"
   ]
  },
  {
   "cell_type": "code",
   "execution_count": 446,
   "id": "17506d6b",
   "metadata": {},
   "outputs": [],
   "source": [
    "crime_count_df2.columns = ['city', 'date', 'MVT_counts']"
   ]
  },
  {
   "cell_type": "code",
   "execution_count": 447,
   "id": "35d58ff8",
   "metadata": {},
   "outputs": [],
   "source": [
    "crime_count_df2.index = crime_count_df2.date"
   ]
  },
  {
   "cell_type": "code",
   "execution_count": 448,
   "id": "e94454fb",
   "metadata": {},
   "outputs": [],
   "source": [
    "crime_count_df3 = crime_count_df2[crime_count_df2.index > '2017-01-01']"
   ]
  },
  {
   "cell_type": "code",
   "execution_count": 449,
   "id": "e3fa4632",
   "metadata": {},
   "outputs": [
    {
     "data": {
      "text/html": [
       "<div>\n",
       "<style scoped>\n",
       "    .dataframe tbody tr th:only-of-type {\n",
       "        vertical-align: middle;\n",
       "    }\n",
       "\n",
       "    .dataframe tbody tr th {\n",
       "        vertical-align: top;\n",
       "    }\n",
       "\n",
       "    .dataframe thead th {\n",
       "        text-align: right;\n",
       "    }\n",
       "</style>\n",
       "<table border=\"1\" class=\"dataframe\">\n",
       "  <thead>\n",
       "    <tr style=\"text-align: right;\">\n",
       "      <th></th>\n",
       "      <th>city</th>\n",
       "      <th>date</th>\n",
       "      <th>MVT_counts</th>\n",
       "    </tr>\n",
       "    <tr>\n",
       "      <th>date</th>\n",
       "      <th></th>\n",
       "      <th></th>\n",
       "      <th></th>\n",
       "    </tr>\n",
       "  </thead>\n",
       "  <tbody>\n",
       "    <tr>\n",
       "      <th>2017-01-02</th>\n",
       "      <td>Austin, TX</td>\n",
       "      <td>2017-01-02</td>\n",
       "      <td>34</td>\n",
       "    </tr>\n",
       "    <tr>\n",
       "      <th>2017-01-09</th>\n",
       "      <td>Austin, TX</td>\n",
       "      <td>2017-01-09</td>\n",
       "      <td>50</td>\n",
       "    </tr>\n",
       "    <tr>\n",
       "      <th>2017-01-16</th>\n",
       "      <td>Austin, TX</td>\n",
       "      <td>2017-01-16</td>\n",
       "      <td>36</td>\n",
       "    </tr>\n",
       "    <tr>\n",
       "      <th>2017-01-23</th>\n",
       "      <td>Austin, TX</td>\n",
       "      <td>2017-01-23</td>\n",
       "      <td>31</td>\n",
       "    </tr>\n",
       "    <tr>\n",
       "      <th>2017-01-30</th>\n",
       "      <td>Austin, TX</td>\n",
       "      <td>2017-01-30</td>\n",
       "      <td>31</td>\n",
       "    </tr>\n",
       "    <tr>\n",
       "      <th>...</th>\n",
       "      <td>...</td>\n",
       "      <td>...</td>\n",
       "      <td>...</td>\n",
       "    </tr>\n",
       "    <tr>\n",
       "      <th>2020-03-16</th>\n",
       "      <td>Washington, DC</td>\n",
       "      <td>2020-03-16</td>\n",
       "      <td>29</td>\n",
       "    </tr>\n",
       "    <tr>\n",
       "      <th>2020-03-23</th>\n",
       "      <td>Washington, DC</td>\n",
       "      <td>2020-03-23</td>\n",
       "      <td>44</td>\n",
       "    </tr>\n",
       "    <tr>\n",
       "      <th>2020-03-30</th>\n",
       "      <td>Washington, DC</td>\n",
       "      <td>2020-03-30</td>\n",
       "      <td>46</td>\n",
       "    </tr>\n",
       "    <tr>\n",
       "      <th>2020-04-06</th>\n",
       "      <td>Washington, DC</td>\n",
       "      <td>2020-04-06</td>\n",
       "      <td>39</td>\n",
       "    </tr>\n",
       "    <tr>\n",
       "      <th>2020-04-13</th>\n",
       "      <td>Washington, DC</td>\n",
       "      <td>2020-04-13</td>\n",
       "      <td>20</td>\n",
       "    </tr>\n",
       "  </tbody>\n",
       "</table>\n",
       "<p>2546 rows × 3 columns</p>\n",
       "</div>"
      ],
      "text/plain": [
       "                      city        date  MVT_counts\n",
       "date                                              \n",
       "2017-01-02      Austin, TX  2017-01-02          34\n",
       "2017-01-09      Austin, TX  2017-01-09          50\n",
       "2017-01-16      Austin, TX  2017-01-16          36\n",
       "2017-01-23      Austin, TX  2017-01-23          31\n",
       "2017-01-30      Austin, TX  2017-01-30          31\n",
       "...                    ...         ...         ...\n",
       "2020-03-16  Washington, DC  2020-03-16          29\n",
       "2020-03-23  Washington, DC  2020-03-23          44\n",
       "2020-03-30  Washington, DC  2020-03-30          46\n",
       "2020-04-06  Washington, DC  2020-04-06          39\n",
       "2020-04-13  Washington, DC  2020-04-13          20\n",
       "\n",
       "[2546 rows x 3 columns]"
      ]
     },
     "execution_count": 449,
     "metadata": {},
     "output_type": "execute_result"
    }
   ],
   "source": [
    "crime_count_df3"
   ]
  },
  {
   "cell_type": "code",
   "execution_count": 424,
   "id": "0533b724",
   "metadata": {},
   "outputs": [
    {
     "name": "stderr",
     "output_type": "stream",
     "text": [
      "C:\\Users\\tosea\\AppData\\Local\\Temp\\ipykernel_53664\\3633295899.py:1: SettingWithCopyWarning: \n",
      "A value is trying to be set on a copy of a slice from a DataFrame.\n",
      "Try using .loc[row_indexer,col_indexer] = value instead\n",
      "\n",
      "See the caveats in the documentation: https://pandas.pydata.org/pandas-docs/stable/user_guide/indexing.html#returning-a-view-versus-a-copy\n",
      "  crime_count_df2['dma'] = crime_count_df2.city.map(dma_city_walk)\n"
     ]
    }
   ],
   "source": [
    "crime_count_df2['dma'] = crime_count_df2.city.map(dma_city_walk)"
   ]
  },
  {
   "cell_type": "code",
   "execution_count": 426,
   "id": "9c5a40ae",
   "metadata": {},
   "outputs": [
    {
     "data": {
      "text/html": [
       "<div>\n",
       "<style scoped>\n",
       "    .dataframe tbody tr th:only-of-type {\n",
       "        vertical-align: middle;\n",
       "    }\n",
       "\n",
       "    .dataframe tbody tr th {\n",
       "        vertical-align: top;\n",
       "    }\n",
       "\n",
       "    .dataframe thead th {\n",
       "        text-align: right;\n",
       "    }\n",
       "</style>\n",
       "<table border=\"1\" class=\"dataframe\">\n",
       "  <thead>\n",
       "    <tr style=\"text-align: right;\">\n",
       "      <th></th>\n",
       "      <th>MVT_counts</th>\n",
       "      <th>dma</th>\n",
       "    </tr>\n",
       "    <tr>\n",
       "      <th>date</th>\n",
       "      <th></th>\n",
       "      <th></th>\n",
       "    </tr>\n",
       "  </thead>\n",
       "  <tbody>\n",
       "    <tr>\n",
       "      <th>2016-01-04</th>\n",
       "      <td>53</td>\n",
       "      <td>Austin TX</td>\n",
       "    </tr>\n",
       "    <tr>\n",
       "      <th>2016-01-11</th>\n",
       "      <td>50</td>\n",
       "      <td>Austin TX</td>\n",
       "    </tr>\n",
       "    <tr>\n",
       "      <th>2016-01-18</th>\n",
       "      <td>35</td>\n",
       "      <td>Austin TX</td>\n",
       "    </tr>\n",
       "    <tr>\n",
       "      <th>2016-01-25</th>\n",
       "      <td>37</td>\n",
       "      <td>Austin TX</td>\n",
       "    </tr>\n",
       "    <tr>\n",
       "      <th>2016-02-01</th>\n",
       "      <td>42</td>\n",
       "      <td>Austin TX</td>\n",
       "    </tr>\n",
       "    <tr>\n",
       "      <th>...</th>\n",
       "      <td>...</td>\n",
       "      <td>...</td>\n",
       "    </tr>\n",
       "    <tr>\n",
       "      <th>2020-03-16</th>\n",
       "      <td>29</td>\n",
       "      <td>Washington DC (Hagerstown MD)</td>\n",
       "    </tr>\n",
       "    <tr>\n",
       "      <th>2020-03-23</th>\n",
       "      <td>44</td>\n",
       "      <td>Washington DC (Hagerstown MD)</td>\n",
       "    </tr>\n",
       "    <tr>\n",
       "      <th>2020-03-30</th>\n",
       "      <td>46</td>\n",
       "      <td>Washington DC (Hagerstown MD)</td>\n",
       "    </tr>\n",
       "    <tr>\n",
       "      <th>2020-04-06</th>\n",
       "      <td>39</td>\n",
       "      <td>Washington DC (Hagerstown MD)</td>\n",
       "    </tr>\n",
       "    <tr>\n",
       "      <th>2020-04-13</th>\n",
       "      <td>20</td>\n",
       "      <td>Washington DC (Hagerstown MD)</td>\n",
       "    </tr>\n",
       "  </tbody>\n",
       "</table>\n",
       "<p>3299 rows × 2 columns</p>\n",
       "</div>"
      ],
      "text/plain": [
       "            MVT_counts                            dma\n",
       "date                                                 \n",
       "2016-01-04          53                      Austin TX\n",
       "2016-01-11          50                      Austin TX\n",
       "2016-01-18          35                      Austin TX\n",
       "2016-01-25          37                      Austin TX\n",
       "2016-02-01          42                      Austin TX\n",
       "...                ...                            ...\n",
       "2020-03-16          29  Washington DC (Hagerstown MD)\n",
       "2020-03-23          44  Washington DC (Hagerstown MD)\n",
       "2020-03-30          46  Washington DC (Hagerstown MD)\n",
       "2020-04-06          39  Washington DC (Hagerstown MD)\n",
       "2020-04-13          20  Washington DC (Hagerstown MD)\n",
       "\n",
       "[3299 rows x 2 columns]"
      ]
     },
     "execution_count": 426,
     "metadata": {},
     "output_type": "execute_result"
    }
   ],
   "source": [
    "crime_count_df2.iloc[:,[2,3]]"
   ]
  },
  {
   "cell_type": "code",
   "execution_count": 385,
   "id": "8512a37e",
   "metadata": {},
   "outputs": [
    {
     "data": {
      "text/plain": [
       "array(['Austin, TX', 'Boston, MA', 'Chicago, IL', 'Dallas, TX',\n",
       "       'Los Angeles, CA', 'Louisville, KY', 'Memphis, TN',\n",
       "       'Minneapolis, MN', 'Montgomery County, MD', 'Nashville, TN',\n",
       "       'Philadelphia, PA', 'Phoenix, AZ', 'San Francisco, CA',\n",
       "       'Tucson, AZ', 'Washington, DC'], dtype=object)"
      ]
     },
     "execution_count": 385,
     "metadata": {},
     "output_type": "execute_result"
    }
   ],
   "source": [
    "crime_count_df2.city.unique()"
   ]
  },
  {
   "cell_type": "code",
   "execution_count": 419,
   "id": "96056570",
   "metadata": {},
   "outputs": [],
   "source": [
    "dma_city_walk = {'Austin, TX':'Austin TX',\n",
    "                 'Boston, MA':'Boston MA-Manchester NH', \n",
    "                 'Chicago, IL':'Chicago IL', \n",
    "                 'Dallas, TX':'Dallas-Ft. Worth TX',\n",
    "                 'Los Angeles, CA':'Los Angeles CA', \n",
    "                 'Louisville, KY':'Louisville KY',\n",
    "                 'Memphis, TN':'Memphis TN',\n",
    "                 'Minneapolis, MN':'Minneapolis-St. Paul MN', \n",
    "                 'Nashville, TN':'Nashville TN',\n",
    "                 'Philadelphia, PA':'Philadelphia PA',\n",
    "                 'Phoenix, AZ':'Phoenix AZ', \n",
    "                 'Washington, DC':'Washington DC (Hagerstown MD)'}"
   ]
  },
  {
   "cell_type": "code",
   "execution_count": 318,
   "id": "bbde2107",
   "metadata": {},
   "outputs": [
    {
     "data": {
      "text/plain": [
       "Index(['Albuquerque-Santa Fe NM', 'Atlanta GA', 'Austin TX', 'Baltimore MD',\n",
       "       'Boston MA-Manchester NH', 'Charlotte NC', 'Chicago IL',\n",
       "       'Dallas-Ft. Worth TX', 'Denver CO', 'Detroit MI', 'Houston TX',\n",
       "       'Kansas City MO', 'Las Vegas NV', 'Los Angeles CA', 'Louisville KY',\n",
       "       'Memphis TN', 'Miami-Ft. Lauderdale FL', 'Milwaukee WI',\n",
       "       'Minneapolis-St. Paul MN', 'Nashville TN', 'New York NY',\n",
       "       'Norfolk-Portsmouth-Newport News VA', 'Ontario', 'Philadelphia PA',\n",
       "       'Phoenix AZ', 'Portland OR', 'Raleigh-Durham (Fayetteville) NC',\n",
       "       'Sacramento-Stockton-Modesto CA', 'San Antonio TX', 'San Diego CA',\n",
       "       'Seattle-Tacoma WA', 'Washington DC (Hagerstown MD)'],\n",
       "      dtype='object')"
      ]
     },
     "execution_count": 318,
     "metadata": {},
     "output_type": "execute_result"
    }
   ],
   "source": [
    "keep_columns"
   ]
  },
  {
   "cell_type": "code",
   "execution_count": 322,
   "id": "125d0353",
   "metadata": {},
   "outputs": [
    {
     "data": {
      "text/plain": [
       "array(['Austin, TX', 'Boston, MA', 'Chicago, IL', 'Dallas, TX',\n",
       "       'Los Angeles, CA', 'Louisville, KY', 'Memphis, TN',\n",
       "       'Minneapolis, MN', 'Montgomery County, MD', 'Nashville, TN',\n",
       "       'Philadelphia, PA', 'Phoenix, AZ', 'San Francisco, CA',\n",
       "       'Tucson, AZ', 'Washington, DC'], dtype=object)"
      ]
     },
     "execution_count": 322,
     "metadata": {},
     "output_type": "execute_result"
    }
   ],
   "source": [
    "crime_count_df.city_name.unique()"
   ]
  },
  {
   "cell_type": "code",
   "execution_count": null,
   "id": "1888b882",
   "metadata": {},
   "outputs": [],
   "source": []
  }
 ],
 "metadata": {
  "kernelspec": {
   "display_name": "Python 3 (ipykernel)",
   "language": "python",
   "name": "python3"
  },
  "language_info": {
   "codemirror_mode": {
    "name": "ipython",
    "version": 3
   },
   "file_extension": ".py",
   "mimetype": "text/x-python",
   "name": "python",
   "nbconvert_exporter": "python",
   "pygments_lexer": "ipython3",
   "version": "3.9.12"
  }
 },
 "nbformat": 4,
 "nbformat_minor": 5
}
