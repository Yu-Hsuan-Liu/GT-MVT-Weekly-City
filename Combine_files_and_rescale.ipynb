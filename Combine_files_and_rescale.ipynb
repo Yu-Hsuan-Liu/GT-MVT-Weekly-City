{
 "cells": [
  {
   "cell_type": "markdown",
   "id": "ebdecdc4",
   "metadata": {},
   "source": [
    "# GT and Motor Vehicle Theft in Cities in the United States"
   ]
  },
  {
   "cell_type": "markdown",
   "id": "1e4ea274",
   "metadata": {},
   "source": [
    "## GT Weekly City level data"
   ]
  },
  {
   "cell_type": "code",
   "execution_count": 1,
   "id": "2dc71f66",
   "metadata": {},
   "outputs": [],
   "source": [
    "import pandas as pd\n",
    "import numpy as np\n",
    "import os\n",
    "import re\n",
    "import glob\n",
    "from sklearn.preprocessing import MinMaxScaler"
   ]
  },
  {
   "cell_type": "code",
   "execution_count": 2,
   "id": "9e67310d",
   "metadata": {},
   "outputs": [],
   "source": [
    "# Top 50 the most populous cities in the U.S.\n",
    "region_code_dict = {\n",
    "    \"US-NY-501\":\"New York NY\",\n",
    "    \"US-CA-807\":\"San Francisco-Oakland-San Jose CA\", #including Oakland, CA and San Jose CA\n",
    "    \"US-CA-803\":\"Los Angeles CA\", #including Long Beach, CA\n",
    "    \"US-CA-825\":\"San Diego CA\", \n",
    "    \"US-CA-807\":\"Sacramento-Stockton-Modesto CA\",\n",
    "    \"US-AZ-753\":\"Phoenix AZ\", #including Mesa, AZ\n",
    "    \"US-MI-505\":\"Detroit MI\",\n",
    "    \"US-NC-517\" : \"Charlotte NC\",\n",
    "    \"US-OH-535\" : \"Columbus OH\",\n",
    "    \"US-FL-561\" : \"Jacksonville FL\",\n",
    "    \"US-MD-511\" : \"Washington DC (Hagerstown MD)\", # including Arlington VA\n",
    "    \"US-OK-650\" : \"Oklahoma City OK\",\n",
    "    \"US-TX-765\" : \"El Paso TX\",\n",
    "    \"US-OR-820\" : \"Portland OR\",\n",
    "    \"US-MD-512\" : \"Baltimore MD\",\n",
    "    \"US-WI-617\" : \"Milwaukee WI\",\n",
    "    \"US-NM-790\" : \"Albuquerque-Santa Fe NM\",\n",
    "    \"US-CA-866\" : \"Fresno-Visalia CA\",\n",
    "    \"US-MO-616\" : \"Kansas City MO\",\n",
    "    \"US-NE-652\" : \"Omaha NE\",\n",
    "    \"US-CO-752\" : \"Colorado Springs-Pueblo CO\",\n",
    "    \"US-NC-560\" : \"Raleigh-Durham (Fayetteville) NC\",\n",
    "    \"US-VA-544\" : \"Norfolk-Portsmouth-Newport News VA\", #including Virginia Beach, VA\n",
    "    \"US-FL-528\" : \"Miami-Ft. Lauderdale FL\",\n",
    "    \"US-CA-800\" : \"Bakersfield CA\",\n",
    "    \"US-OK-671\" : \"Tulsa OK\",\n",
    "    \"US-KS-678\" : \"Wichita-Hutchinson KS\"  ,\n",
    "    \"US-NV-839\":\"Las Vegas NV\",\n",
    "    \"US-WA-819\":\"Seattle-Tacoma WA\",\n",
    "    \"US-CO-751\":\"Denver CO\", #including Aurora, CO\n",
    "    \"US-PA-504\":\"Philadelphia PA\",\n",
    "    \"US-GA-524\":\"Atlanta GA\",\n",
    "    \"US-IN-602\":\"Chicago IL\",\n",
    "    \"US-NH-506\":\"Boston MA-Manchester NH\",\n",
    "    \"CA-ON\":\"Ontario\",\n",
    "    \"US-KY-529\" : \"Louisville KY\",\n",
    "    \"US-TN-640\" : \"Memphis TN\",\n",
    "    \"US-WI-613\" : \"Minneapolis-St. Paul MN\",\n",
    "    \"US-TN-659\" : \"Nashville TN\",\n",
    "    \"US-AZ-789\" : \"Tucson AZ\",\n",
    "    \"US-TX-623\" : \"Dallas-Ft. Worth TX\", # including Fort Worth, TX\n",
    "    \"US-TX-641\" : \"San Antonio TX\",\n",
    "    \"US-TX-618\" : \"Houston TX\",\n",
    "    \"US-TX-635\" : \"Austin TX\",\n",
    "}"
   ]
  },
  {
   "cell_type": "code",
   "execution_count": 3,
   "id": "7d178b3b",
   "metadata": {},
   "outputs": [],
   "source": [
    "filelist = os.listdir()"
   ]
  },
  {
   "cell_type": "code",
   "execution_count": 4,
   "id": "2c4abdba",
   "metadata": {},
   "outputs": [],
   "source": [
    "#get city name\n",
    "for city_name in region_code_dict.values():\n",
    "    #get the list of files which contain 'city_name'\n",
    "    city_file_list = glob.glob(f\"{city_name}_weekly_[0-9]*\")\n",
    "    #empty list to store temp_df\n",
    "    list1 = []\n",
    "    for file_name in city_file_list:\n",
    "        temp_df = pd.read_csv(file_name, index_col=0)\n",
    "        list1.append(temp_df)\n",
    "    #concate temp_dfs and drop duplicated date columns and calculate the mean\n",
    "    df1 = pd.concat(list1, axis=1)\n",
    "    final_df_mean = df1.T.drop_duplicates().T.mean(axis = 1)\n",
    "    #normalize data to maximum = 100 (similar as Google Trends)\n",
    "    final_df_mean = round(final_df_mean/final_df_mean.max()*100, 3)\n",
    "    \n",
    "    #add index name and column name\n",
    "    final_df_mean.index.name = 'date'\n",
    "    final_df_mean.name = city_name\n",
    "    #write into a total csv file\n",
    "    final_df_mean.sort_index().to_csv(f'{city_name}_weekly_total.csv')\n",
    "\n"
   ]
  },
  {
   "cell_type": "code",
   "execution_count": 5,
   "id": "89fdf769",
   "metadata": {},
   "outputs": [],
   "source": [
    "#combine all citie's mean values into one csv file\n",
    "city_total_list = glob.glob(f\"*total.csv\")\n",
    "list2 = []\n",
    "for file_name in city_total_list:\n",
    "    temp_df2 = pd.read_csv(file_name, index_col=0)\n",
    "    list2.append(temp_df2)\n",
    "    import pdb\n",
    "    #pdb.set_trace()\n",
    "df2 = pd.concat(list2, axis=1)\n",
    "\n",
    "\n",
    "df2.sort_index().to_csv(f'all_cities_weekly.csv')"
   ]
  },
  {
   "cell_type": "code",
   "execution_count": 6,
   "id": "2ea152ca",
   "metadata": {},
   "outputs": [],
   "source": [
    "#keep the colums with less than 25% missing values\n",
    "keep_columns = df2.columns[df2.isna().sum()/len(df2)*100 < 25]\n",
    "df3 = df2[keep_columns]"
   ]
  },
  {
   "cell_type": "code",
   "execution_count": 7,
   "id": "41a2ef1f",
   "metadata": {},
   "outputs": [
    {
     "name": "stdout",
     "output_type": "stream",
     "text": [
      "<class 'pandas.core.frame.DataFrame'>\n",
      "Index: 313 entries, 2017-01-01 to 2022-12-25\n",
      "Data columns (total 33 columns):\n",
      " #   Column                              Non-Null Count  Dtype  \n",
      "---  ------                              --------------  -----  \n",
      " 0   Albuquerque-Santa Fe NM             266 non-null    float64\n",
      " 1   Atlanta GA                          312 non-null    float64\n",
      " 2   Austin TX                           262 non-null    float64\n",
      " 3   Baltimore MD                        253 non-null    float64\n",
      " 4   Boston MA-Manchester NH             285 non-null    float64\n",
      " 5   Charlotte NC                        276 non-null    float64\n",
      " 6   Chicago IL                          313 non-null    float64\n",
      " 7   Columbus OH                         244 non-null    float64\n",
      " 8   Dallas-Ft. Worth TX                 312 non-null    float64\n",
      " 9   Denver CO                           298 non-null    float64\n",
      " 10  Detroit MI                          300 non-null    float64\n",
      " 11  Houston TX                          311 non-null    float64\n",
      " 12  Kansas City MO                      274 non-null    float64\n",
      " 13  Las Vegas NV                        286 non-null    float64\n",
      " 14  Los Angeles CA                      313 non-null    float64\n",
      " 15  Louisville KY                       258 non-null    float64\n",
      " 16  Memphis TN                          267 non-null    float64\n",
      " 17  Miami-Ft. Lauderdale FL             297 non-null    float64\n",
      " 18  Milwaukee WI                        235 non-null    float64\n",
      " 19  Minneapolis-St. Paul MN             298 non-null    float64\n",
      " 20  Nashville TN                        257 non-null    float64\n",
      " 21  New York NY                         313 non-null    float64\n",
      " 22  Norfolk-Portsmouth-Newport News VA  242 non-null    float64\n",
      " 23  Ontario                             312 non-null    float64\n",
      " 24  Philadelphia PA                     306 non-null    float64\n",
      " 25  Phoenix AZ                          286 non-null    float64\n",
      " 26  Portland OR                         286 non-null    float64\n",
      " 27  Raleigh-Durham (Fayetteville) NC    250 non-null    float64\n",
      " 28  Sacramento-Stockton-Modesto CA      313 non-null    float64\n",
      " 29  San Antonio TX                      254 non-null    float64\n",
      " 30  San Diego CA                        277 non-null    float64\n",
      " 31  Seattle-Tacoma WA                   309 non-null    float64\n",
      " 32  Washington DC (Hagerstown MD)       307 non-null    float64\n",
      "dtypes: float64(33)\n",
      "memory usage: 83.1+ KB\n"
     ]
    }
   ],
   "source": [
    "#check for null and non-null counts of each cities\n",
    "df3.info()"
   ]
  },
  {
   "cell_type": "code",
   "execution_count": 8,
   "id": "80865f6e",
   "metadata": {},
   "outputs": [
    {
     "name": "stderr",
     "output_type": "stream",
     "text": [
      "C:\\Users\\tosea\\AppData\\Local\\Temp\\ipykernel_73964\\2683336654.py:1: SettingWithCopyWarning: \n",
      "A value is trying to be set on a copy of a slice from a DataFrame\n",
      "\n",
      "See the caveats in the documentation: https://pandas.pydata.org/pandas-docs/stable/user_guide/indexing.html#returning-a-view-versus-a-copy\n",
      "  df3.interpolate(method ='linear', limit_direction ='backward', inplace=True)\n",
      "C:\\Users\\tosea\\AppData\\Local\\Temp\\ipykernel_73964\\2683336654.py:2: SettingWithCopyWarning: \n",
      "A value is trying to be set on a copy of a slice from a DataFrame\n",
      "\n",
      "See the caveats in the documentation: https://pandas.pydata.org/pandas-docs/stable/user_guide/indexing.html#returning-a-view-versus-a-copy\n",
      "  df3.interpolate(method ='linear', limit_direction ='forward', inplace=True)\n"
     ]
    }
   ],
   "source": [
    "df3.interpolate(method ='linear', limit_direction ='backward', inplace=True)\n",
    "df3.interpolate(method ='linear', limit_direction ='forward', inplace=True)"
   ]
  },
  {
   "cell_type": "code",
   "execution_count": null,
   "id": "07df246d",
   "metadata": {},
   "outputs": [],
   "source": [
    "#plus one day to align with city level data\n",
    "df3.index = pd.to_datetime(df3.index) + pd.Timedelta(1, unit=\"day\")"
   ]
  },
  {
   "cell_type": "code",
   "execution_count": null,
   "id": "6e84aa63",
   "metadata": {},
   "outputs": [],
   "source": [
    "df4 = df3.stack().reset_index()"
   ]
  },
  {
   "cell_type": "code",
   "execution_count": null,
   "id": "3db61d16",
   "metadata": {},
   "outputs": [],
   "source": [
    "df3.stack().reset_index()"
   ]
  },
  {
   "cell_type": "code",
   "execution_count": null,
   "id": "45688770",
   "metadata": {},
   "outputs": [],
   "source": [
    "df4"
   ]
  },
  {
   "cell_type": "code",
   "execution_count": null,
   "id": "2835f5e8",
   "metadata": {},
   "outputs": [],
   "source": [
    "df4.columns = ['date', 'dma', 'MVT_GT']"
   ]
  },
  {
   "cell_type": "code",
   "execution_count": null,
   "id": "de174b70",
   "metadata": {},
   "outputs": [],
   "source": [
    "df4 = df4.set_index([\"date\", \"dma\"])"
   ]
  },
  {
   "cell_type": "code",
   "execution_count": null,
   "id": "405a0abf",
   "metadata": {},
   "outputs": [],
   "source": [
    "df4 = df4[df4.index > '2017-01-01']"
   ]
  },
  {
   "cell_type": "markdown",
   "id": "20db50ae",
   "metadata": {},
   "source": [
    "## Crime Counts Data \n",
    "Ashby, M.P.J. Initial evidence on the relationship between the coronavirus pandemic and crime in the United States. Crime Sci 9, 6 (2020). https://doi.org/10.1186/s40163-020-00117-6"
   ]
  },
  {
   "cell_type": "code",
   "execution_count": null,
   "id": "29fdce43",
   "metadata": {},
   "outputs": [],
   "source": [
    "crime_count_df = pd.read_csv(\"crime_counts (Matthew P J Ashby).csv\")"
   ]
  },
  {
   "cell_type": "code",
   "execution_count": null,
   "id": "34ba853e",
   "metadata": {},
   "outputs": [],
   "source": [
    "crime_count_df = crime_count_df[crime_count_df.category.str.contains(\"theft of vehicle\")]"
   ]
  },
  {
   "cell_type": "code",
   "execution_count": null,
   "id": "62fda028",
   "metadata": {},
   "outputs": [],
   "source": [
    "crime_count_df2 = crime_count_df.iloc[:,[0,2,4]]"
   ]
  },
  {
   "cell_type": "code",
   "execution_count": null,
   "id": "ab572322",
   "metadata": {},
   "outputs": [],
   "source": [
    "crime_count_df2.columns = ['city', 'date', 'MVT_counts']"
   ]
  },
  {
   "cell_type": "code",
   "execution_count": null,
   "id": "1a6d0c2f",
   "metadata": {},
   "outputs": [],
   "source": [
    "crime_count_df2.index = crime_count_df2.date"
   ]
  },
  {
   "cell_type": "code",
   "execution_count": null,
   "id": "d7d5ecd7",
   "metadata": {},
   "outputs": [],
   "source": [
    "crime_count_df3 = crime_count_df2[crime_count_df2.index > '2017-01-01']"
   ]
  },
  {
   "cell_type": "code",
   "execution_count": null,
   "id": "230e81a9",
   "metadata": {},
   "outputs": [],
   "source": [
    "dma_city_walk = {'Austin, TX':'Austin TX',\n",
    "                 'Boston, MA':'Boston MA-Manchester NH', \n",
    "                 'Chicago, IL':'Chicago IL', \n",
    "                 'Dallas, TX':'Dallas-Ft. Worth TX',\n",
    "                 'Los Angeles, CA':'Los Angeles CA', \n",
    "                 'Louisville, KY':'Louisville KY',\n",
    "                 'Memphis, TN':'Memphis TN',\n",
    "                 'Minneapolis, MN':'Minneapolis-St. Paul MN', \n",
    "                 'Nashville, TN':'Nashville TN',\n",
    "                 'Philadelphia, PA':'Philadelphia PA',\n",
    "                 'Phoenix, AZ':'Phoenix AZ',\n",
    "                 'Washington, DC':'Washington DC (Hagerstown MD)'}"
   ]
  },
  {
   "cell_type": "code",
   "execution_count": null,
   "id": "9d934676",
   "metadata": {},
   "outputs": [],
   "source": [
    "crime_count_df3['dma'] = crime_count_df3.city.map(dma_city_walk)"
   ]
  },
  {
   "cell_type": "code",
   "execution_count": null,
   "id": "0038bd45",
   "metadata": {},
   "outputs": [],
   "source": [
    "#filter out values without dma match\n",
    "crime_count_df4 = crime_count_df3[~crime_count_df3.dma.isna()].iloc[:,[2,3]]"
   ]
  },
  {
   "cell_type": "code",
   "execution_count": null,
   "id": "0a8c6838",
   "metadata": {},
   "outputs": [],
   "source": [
    "crime_count_df4 = crime_count_df4.reset_index().set_index([\"date\", \"dma\"])"
   ]
  },
  {
   "cell_type": "code",
   "execution_count": null,
   "id": "1d6c38e8",
   "metadata": {},
   "outputs": [],
   "source": [
    "crime_count_df4"
   ]
  },
  {
   "cell_type": "code",
   "execution_count": null,
   "id": "a934c0ad",
   "metadata": {},
   "outputs": [],
   "source": [
    "df4"
   ]
  },
  {
   "cell_type": "code",
   "execution_count": null,
   "id": "a34b59fe",
   "metadata": {},
   "outputs": [],
   "source": []
  }
 ],
 "metadata": {
  "kernelspec": {
   "display_name": "Python 3 (ipykernel)",
   "language": "python",
   "name": "python3"
  },
  "language_info": {
   "codemirror_mode": {
    "name": "ipython",
    "version": 3
   },
   "file_extension": ".py",
   "mimetype": "text/x-python",
   "name": "python",
   "nbconvert_exporter": "python",
   "pygments_lexer": "ipython3",
   "version": "3.9.12"
  }
 },
 "nbformat": 4,
 "nbformat_minor": 5
}
