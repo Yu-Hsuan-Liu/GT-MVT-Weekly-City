{
 "cells": [
  {
   "cell_type": "markdown",
   "id": "aee5d3b4",
   "metadata": {},
   "source": [
    "# GT and Motor Vehicle Theft in Cities in the United States"
   ]
  },
  {
   "cell_type": "markdown",
   "id": "9c16fd9a",
   "metadata": {},
   "source": [
    "## GT Weekly City level data"
   ]
  },
  {
   "cell_type": "code",
   "execution_count": null,
   "id": "e9b62e90",
   "metadata": {},
   "outputs": [],
   "source": [
    "import pandas as pd\n",
    "import numpy as np\n",
    "import os\n",
    "import re\n",
    "import glob\n",
    "from sklearn.preprocessing import MinMaxScaler"
   ]
  },
  {
   "cell_type": "code",
   "execution_count": 218,
   "id": "7703cf44",
   "metadata": {},
   "outputs": [],
   "source": [
    "# Top 50 the most populous cities in the U.S.\n",
    "c = {\n",
    "    \"US-NY-501\":\"New York NY\",\n",
    "    \"US-CA-807\":\"San Francisco-Oakland-San Jose CA\", #including Oakland, CA and San Jose CA\n",
    "    \"US-CA-803\":\"Los Angeles CA\", #including Long Beach, CA\n",
    "    \"US-CA-825\":\"San Diego CA\", \n",
    "    \"US-CA-807\":\"Sacramento-Stockton-Modesto CA\",\n",
    "    \"US-AZ-753\":\"Phoenix AZ\", #including Mesa, AZ\n",
    "    \"US-MI-505\":\"Detroit MI\",\n",
    "    \"US-NC-517\" : \"Charlotte NC\",\n",
    "    \"US-OH-535\" : \"Columbus OH\",\n",
    "    \"US-FL-561\" : \"Jacksonville FL\",\n",
    "    \"US-MD-511\" : \"Washington DC (Hagerstown MD)\", # including Arlington VA\n",
    "    \"US-OK-650\" : \"Oklahoma City OK\",\n",
    "    \"US-TX-765\" : \"El Paso TX\",\n",
    "    \"US-OR-820\" : \"Portland OR\",\n",
    "    \"US-MD-512\" : \"Baltimore MD\",\n",
    "    \"US-WI-617\" : \"Milwaukee WI\",\n",
    "    \"US-NM-790\" : \"Albuquerque-Santa Fe NM\",\n",
    "    \"US-CA-866\" : \"Fresno-Visalia CA\",\n",
    "    \"US-MO-616\" : \"Kansas City MO\",\n",
    "    \"US-NE-652\" : \"Omaha NE\",\n",
    "    \"US-CO-752\" : \"Colorado Springs-Pueblo CO\",\n",
    "    \"US-NC-560\" : \"Raleigh-Durham (Fayetteville) NC\",\n",
    "    \"US-VA-544\" : \"Norfolk-Portsmouth-Newport News VA\", #including Virginia Beach, VA\n",
    "    \"US-FL-528\" : \"Miami-Ft. Lauderdale FL\",\n",
    "    \"US-CA-800\" : \"Bakersfield CA\",\n",
    "    \"US-OK-671\" : \"Tulsa OK\",\n",
    "    \"US-KS-678\" : \"Wichita-Hutchinson KS\"  ,\n",
    "    \"US-NV-839\":\"Las Vegas NV\",\n",
    "    \"US-WA-819\":\"Seattle-Tacoma WA\",\n",
    "    \"US-CO-751\":\"Denver CO\", #including Aurora, CO\n",
    "    \"US-PA-504\":\"Philadelphia PA\",\n",
    "    \"US-GA-524\":\"Atlanta GA\",\n",
    "    \"US-IN-602\":\"Chicago IL\",\n",
    "    \"US-NH-506\":\"Boston MA-Manchester NH\",\n",
    "    \"CA-ON\":\"Ontario\",\n",
    "    \"US-KY-529\" : \"Louisville KY\",\n",
    "    \"US-TN-640\" : \"Memphis TN\",\n",
    "    \"US-WI-613\" : \"Minneapolis-St. Paul MN\",\n",
    "    \"US-TN-659\" : \"Nashville TN\",\n",
    "    \"US-AZ-789\" : \"Tucson AZ\",\n",
    "    \"US-TX-623\" : \"Dallas-Ft. Worth TX\", # including Fort Worth, TX\n",
    "    \"US-TX-641\" : \"San Antonio TX\",\n",
    "    \"US-TX-618\" : \"Houston TX\",\n",
    "    \"US-TX-635\" : \"Austin TX\",\n",
    "}"
   ]
  },
  {
   "cell_type": "code",
   "execution_count": 219,
   "id": "bd1cdd70",
   "metadata": {},
   "outputs": [],
   "source": [
    "filelist = os.listdir()"
   ]
  },
  {
   "cell_type": "code",
   "execution_count": 220,
   "id": "ea776300",
   "metadata": {},
   "outputs": [],
   "source": [
    "#get city name\n",
    "for city_name in region_code_dict.values():\n",
    "    #get the list of files which contain 'city_name'\n",
    "    city_file_list = glob.glob(f\"{city_name}_weekly_[0-9]*\")\n",
    "    #empty list to store temp_df\n",
    "    list1 = []\n",
    "    for file_name in city_file_list:\n",
    "        temp_df = pd.read_csv(file_name, index_col=0)\n",
    "        list1.append(temp_df)\n",
    "    #concate temp_dfs and drop duplicated date columns and calculate the mean\n",
    "    df1 = pd.concat(list1, axis=1)\n",
    "    final_df_mean = df1.T.drop_duplicates().T.mean(axis = 1)\n",
    "    #normalize data to maximum = 100 (similar as Google Trends)\n",
    "    final_df_mean = round(final_df_mean/final_df_mean.max()*100, 3)\n",
    "    \n",
    "    #add index name and column name\n",
    "    final_df_mean.index.name = 'date'\n",
    "    final_df_mean.name = city_name\n",
    "    #write into a total csv file\n",
    "    final_df_mean.sort_index().to_csv(f'{city_name}_weekly_total.csv')\n",
    "\n"
   ]
  },
  {
   "cell_type": "code",
   "execution_count": 296,
   "id": "70bde0f3",
   "metadata": {},
   "outputs": [],
   "source": [
    "#combine all citie's mean values into one csv file\n",
    "city_total_list = glob.glob(f\"*total.csv\")\n",
    "list2 = []\n",
    "for file_name in city_total_list:\n",
    "    temp_df2 = pd.read_csv(file_name, index_col=0)\n",
    "    list2.append(temp_df2)\n",
    "    import pdb\n",
    "    #pdb.set_trace()\n",
    "df2 = pd.concat(list2, axis=1)\n",
    "\n",
    "\n",
    "df2.sort_index().to_csv(f'all_cities_weekly.csv')"
   ]
  },
  {
   "cell_type": "code",
   "execution_count": 297,
   "id": "dc98f640",
   "metadata": {},
   "outputs": [],
   "source": [
    "#keep the colums with less than 20% missing values\n",
    "keep_columns = df2.columns[df2.isna().sum()/len(df2)*100 < 25]\n",
    "df3 = df2[keep_columns]"
   ]
  },
  {
   "cell_type": "code",
   "execution_count": 298,
   "id": "8da50a6b",
   "metadata": {},
   "outputs": [
    {
     "name": "stderr",
     "output_type": "stream",
     "text": [
      "C:\\Users\\tosea\\AppData\\Local\\Temp\\ipykernel_53664\\2683336654.py:1: SettingWithCopyWarning: \n",
      "A value is trying to be set on a copy of a slice from a DataFrame\n",
      "\n",
      "See the caveats in the documentation: https://pandas.pydata.org/pandas-docs/stable/user_guide/indexing.html#returning-a-view-versus-a-copy\n",
      "  df3.interpolate(method ='linear', limit_direction ='backward', inplace=True)\n",
      "C:\\Users\\tosea\\AppData\\Local\\Temp\\ipykernel_53664\\2683336654.py:2: SettingWithCopyWarning: \n",
      "A value is trying to be set on a copy of a slice from a DataFrame\n",
      "\n",
      "See the caveats in the documentation: https://pandas.pydata.org/pandas-docs/stable/user_guide/indexing.html#returning-a-view-versus-a-copy\n",
      "  df3.interpolate(method ='linear', limit_direction ='forward', inplace=True)\n"
     ]
    }
   ],
   "source": [
    "df3.interpolate(method ='linear', limit_direction ='backward', inplace=True)\n",
    "df3.interpolate(method ='linear', limit_direction ='forward', inplace=True)"
   ]
  },
  {
   "cell_type": "code",
   "execution_count": 299,
   "id": "77308d7c",
   "metadata": {},
   "outputs": [],
   "source": [
    "df4 = df3.stack()"
   ]
  },
  {
   "cell_type": "code",
   "execution_count": 300,
   "id": "4b800d61",
   "metadata": {},
   "outputs": [
    {
     "data": {
      "text/html": [
       "<div>\n",
       "<style scoped>\n",
       "    .dataframe tbody tr th:only-of-type {\n",
       "        vertical-align: middle;\n",
       "    }\n",
       "\n",
       "    .dataframe tbody tr th {\n",
       "        vertical-align: top;\n",
       "    }\n",
       "\n",
       "    .dataframe thead th {\n",
       "        text-align: right;\n",
       "    }\n",
       "</style>\n",
       "<table border=\"1\" class=\"dataframe\">\n",
       "  <thead>\n",
       "    <tr style=\"text-align: right;\">\n",
       "      <th></th>\n",
       "      <th>date</th>\n",
       "      <th>level_1</th>\n",
       "      <th>0</th>\n",
       "    </tr>\n",
       "  </thead>\n",
       "  <tbody>\n",
       "    <tr>\n",
       "      <th>0</th>\n",
       "      <td>2017-01-01</td>\n",
       "      <td>Albuquerque-Santa Fe NM</td>\n",
       "      <td>25.600</td>\n",
       "    </tr>\n",
       "    <tr>\n",
       "      <th>1</th>\n",
       "      <td>2017-01-01</td>\n",
       "      <td>Atlanta GA</td>\n",
       "      <td>46.423</td>\n",
       "    </tr>\n",
       "    <tr>\n",
       "      <th>2</th>\n",
       "      <td>2017-01-01</td>\n",
       "      <td>Austin TX</td>\n",
       "      <td>35.200</td>\n",
       "    </tr>\n",
       "    <tr>\n",
       "      <th>3</th>\n",
       "      <td>2017-01-01</td>\n",
       "      <td>Baltimore MD</td>\n",
       "      <td>24.000</td>\n",
       "    </tr>\n",
       "    <tr>\n",
       "      <th>4</th>\n",
       "      <td>2017-01-01</td>\n",
       "      <td>Boston MA-Manchester NH</td>\n",
       "      <td>26.400</td>\n",
       "    </tr>\n",
       "    <tr>\n",
       "      <th>...</th>\n",
       "      <td>...</td>\n",
       "      <td>...</td>\n",
       "      <td>...</td>\n",
       "    </tr>\n",
       "    <tr>\n",
       "      <th>8759</th>\n",
       "      <td>2020-03-15</td>\n",
       "      <td>Raleigh-Durham (Fayetteville) NC</td>\n",
       "      <td>33.177</td>\n",
       "    </tr>\n",
       "    <tr>\n",
       "      <th>8760</th>\n",
       "      <td>2020-03-15</td>\n",
       "      <td>Sacramento-Stockton-Modesto CA</td>\n",
       "      <td>18.766</td>\n",
       "    </tr>\n",
       "    <tr>\n",
       "      <th>8761</th>\n",
       "      <td>2020-03-15</td>\n",
       "      <td>San Diego CA</td>\n",
       "      <td>39.566</td>\n",
       "    </tr>\n",
       "    <tr>\n",
       "      <th>8762</th>\n",
       "      <td>2020-03-15</td>\n",
       "      <td>Seattle-Tacoma WA</td>\n",
       "      <td>19.603</td>\n",
       "    </tr>\n",
       "    <tr>\n",
       "      <th>8763</th>\n",
       "      <td>2020-03-15</td>\n",
       "      <td>Washington DC (Hagerstown MD)</td>\n",
       "      <td>30.912</td>\n",
       "    </tr>\n",
       "  </tbody>\n",
       "</table>\n",
       "<p>8764 rows × 3 columns</p>\n",
       "</div>"
      ],
      "text/plain": [
       "            date                           level_1       0\n",
       "0     2017-01-01           Albuquerque-Santa Fe NM  25.600\n",
       "1     2017-01-01                        Atlanta GA  46.423\n",
       "2     2017-01-01                         Austin TX  35.200\n",
       "3     2017-01-01                      Baltimore MD  24.000\n",
       "4     2017-01-01           Boston MA-Manchester NH  26.400\n",
       "...          ...                               ...     ...\n",
       "8759  2020-03-15  Raleigh-Durham (Fayetteville) NC  33.177\n",
       "8760  2020-03-15    Sacramento-Stockton-Modesto CA  18.766\n",
       "8761  2020-03-15                      San Diego CA  39.566\n",
       "8762  2020-03-15                 Seattle-Tacoma WA  19.603\n",
       "8763  2020-03-15     Washington DC (Hagerstown MD)  30.912\n",
       "\n",
       "[8764 rows x 3 columns]"
      ]
     },
     "execution_count": 300,
     "metadata": {},
     "output_type": "execute_result"
    }
   ],
   "source": [
    "df4.reset_index()"
   ]
  },
  {
   "cell_type": "code",
   "execution_count": 301,
   "id": "095608b9",
   "metadata": {},
   "outputs": [
    {
     "data": {
      "text/plain": [
       "Index(['Albuquerque-Santa Fe NM', 'Atlanta GA', 'Austin TX', 'Baltimore MD',\n",
       "       'Boston MA-Manchester NH', 'Charlotte NC', 'Chicago IL',\n",
       "       'Dallas-Ft. Worth TX', 'Denver CO', 'Detroit MI', 'Houston TX',\n",
       "       'Kansas City MO', 'Las Vegas NV', 'Los Angeles CA',\n",
       "       'Miami-Ft. Lauderdale FL', 'Milwaukee WI', 'Minneapolis-St. Paul MN',\n",
       "       'New York NY', 'Norfolk-Portsmouth-Newport News VA', 'Ontario',\n",
       "       'Philadelphia PA', 'Phoenix AZ', 'Portland OR',\n",
       "       'Raleigh-Durham (Fayetteville) NC', 'Sacramento-Stockton-Modesto CA',\n",
       "       'San Diego CA', 'Seattle-Tacoma WA', 'Washington DC (Hagerstown MD)'],\n",
       "      dtype='object')"
      ]
     },
     "execution_count": 301,
     "metadata": {},
     "output_type": "execute_result"
    }
   ],
   "source": [
    "keep_columns"
   ]
  },
  {
   "cell_type": "markdown",
   "id": "4f468e35",
   "metadata": {},
   "source": [
    "## Crime Counts Data \n",
    "Ashby, M.P.J. Initial evidence on the relationship between the coronavirus pandemic and crime in the United States. Crime Sci 9, 6 (2020). https://doi.org/10.1186/s40163-020-00117-6"
   ]
  },
  {
   "cell_type": "code",
   "execution_count": 287,
   "id": "28fa5f81",
   "metadata": {},
   "outputs": [],
   "source": [
    "crime_count_df = pd.read_csv(\"crime_counts (Matthew P J Ashby).csv\")"
   ]
  },
  {
   "cell_type": "code",
   "execution_count": 292,
   "id": "1913b8f1",
   "metadata": {},
   "outputs": [],
   "source": [
    "crime_count_df = crime_count_df[crime_count_df.category.str.contains(\"theft of vehicle\")]"
   ]
  },
  {
   "cell_type": "code",
   "execution_count": 309,
   "id": "d293c150",
   "metadata": {},
   "outputs": [
    {
     "data": {
      "text/html": [
       "<div>\n",
       "<style scoped>\n",
       "    .dataframe tbody tr th:only-of-type {\n",
       "        vertical-align: middle;\n",
       "    }\n",
       "\n",
       "    .dataframe tbody tr th {\n",
       "        vertical-align: top;\n",
       "    }\n",
       "\n",
       "    .dataframe thead th {\n",
       "        text-align: right;\n",
       "    }\n",
       "</style>\n",
       "<table border=\"1\" class=\"dataframe\">\n",
       "  <thead>\n",
       "    <tr style=\"text-align: right;\">\n",
       "      <th></th>\n",
       "      <th>city_name</th>\n",
       "      <th>week_beginning</th>\n",
       "      <th>actual_crimes</th>\n",
       "    </tr>\n",
       "  </thead>\n",
       "  <tbody>\n",
       "    <tr>\n",
       "      <th>1115</th>\n",
       "      <td>Austin, TX</td>\n",
       "      <td>2016-01-04</td>\n",
       "      <td>53</td>\n",
       "    </tr>\n",
       "    <tr>\n",
       "      <th>1116</th>\n",
       "      <td>Austin, TX</td>\n",
       "      <td>2016-01-11</td>\n",
       "      <td>50</td>\n",
       "    </tr>\n",
       "    <tr>\n",
       "      <th>1117</th>\n",
       "      <td>Austin, TX</td>\n",
       "      <td>2016-01-18</td>\n",
       "      <td>35</td>\n",
       "    </tr>\n",
       "    <tr>\n",
       "      <th>1118</th>\n",
       "      <td>Austin, TX</td>\n",
       "      <td>2016-01-25</td>\n",
       "      <td>37</td>\n",
       "    </tr>\n",
       "    <tr>\n",
       "      <th>1119</th>\n",
       "      <td>Austin, TX</td>\n",
       "      <td>2016-02-01</td>\n",
       "      <td>42</td>\n",
       "    </tr>\n",
       "    <tr>\n",
       "      <th>...</th>\n",
       "      <td>...</td>\n",
       "      <td>...</td>\n",
       "      <td>...</td>\n",
       "    </tr>\n",
       "    <tr>\n",
       "      <th>16974</th>\n",
       "      <td>Washington, DC</td>\n",
       "      <td>2020-03-16</td>\n",
       "      <td>29</td>\n",
       "    </tr>\n",
       "    <tr>\n",
       "      <th>16975</th>\n",
       "      <td>Washington, DC</td>\n",
       "      <td>2020-03-23</td>\n",
       "      <td>44</td>\n",
       "    </tr>\n",
       "    <tr>\n",
       "      <th>16976</th>\n",
       "      <td>Washington, DC</td>\n",
       "      <td>2020-03-30</td>\n",
       "      <td>46</td>\n",
       "    </tr>\n",
       "    <tr>\n",
       "      <th>16977</th>\n",
       "      <td>Washington, DC</td>\n",
       "      <td>2020-04-06</td>\n",
       "      <td>39</td>\n",
       "    </tr>\n",
       "    <tr>\n",
       "      <th>16978</th>\n",
       "      <td>Washington, DC</td>\n",
       "      <td>2020-04-13</td>\n",
       "      <td>20</td>\n",
       "    </tr>\n",
       "  </tbody>\n",
       "</table>\n",
       "<p>3299 rows × 3 columns</p>\n",
       "</div>"
      ],
      "text/plain": [
       "            city_name week_beginning  actual_crimes\n",
       "1115       Austin, TX     2016-01-04             53\n",
       "1116       Austin, TX     2016-01-11             50\n",
       "1117       Austin, TX     2016-01-18             35\n",
       "1118       Austin, TX     2016-01-25             37\n",
       "1119       Austin, TX     2016-02-01             42\n",
       "...               ...            ...            ...\n",
       "16974  Washington, DC     2020-03-16             29\n",
       "16975  Washington, DC     2020-03-23             44\n",
       "16976  Washington, DC     2020-03-30             46\n",
       "16977  Washington, DC     2020-04-06             39\n",
       "16978  Washington, DC     2020-04-13             20\n",
       "\n",
       "[3299 rows x 3 columns]"
      ]
     },
     "execution_count": 309,
     "metadata": {},
     "output_type": "execute_result"
    }
   ],
   "source": [
    "crime_count_df.iloc[:,[0,2,4]]"
   ]
  },
  {
   "cell_type": "code",
   "execution_count": 302,
   "id": "716871b7",
   "metadata": {},
   "outputs": [],
   "source": [
    "dma_city_walk = {'Austin TX':'Austin, TX',\n",
    " 'Boston MA-Manchester NH' : 'Boston, MA', \n",
    " 'Chicago IL':'Chicago, IL', \n",
    " 'Dallas-Ft. Worth TX': 'Dallas, TX',\n",
    " 'Los Angeles CA': 'Los Angeles, CA', \n",
    " 'Minneapolis-St. Paul MN': 'Minneapolis, MN', \n",
    " 'Philadelphia PA':'Philadelphia, PA',\n",
    " 'Phoenix AZ':'Phoenix, AZ', \n",
    " 'Washington DC (Hagerstown MD)':'Washington, DC'}"
   ]
  },
  {
   "cell_type": "code",
   "execution_count": null,
   "id": "69399371",
   "metadata": {},
   "outputs": [],
   "source": []
  }
 ],
 "metadata": {
  "kernelspec": {
   "display_name": "Python 3 (ipykernel)",
   "language": "python",
   "name": "python3"
  },
  "language_info": {
   "codemirror_mode": {
    "name": "ipython",
    "version": 3
   },
   "file_extension": ".py",
   "mimetype": "text/x-python",
   "name": "python",
   "nbconvert_exporter": "python",
   "pygments_lexer": "ipython3",
   "version": "3.9.12"
  }
 },
 "nbformat": 4,
 "nbformat_minor": 5
}
