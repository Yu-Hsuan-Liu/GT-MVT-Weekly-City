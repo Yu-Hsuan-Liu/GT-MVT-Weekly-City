{
 "cells": [
  {
   "cell_type": "code",
   "execution_count": 1,
   "id": "9b46170d",
   "metadata": {},
   "outputs": [],
   "source": [
    "import time\n",
    "from datetime import datetime, timedelta\n",
    "from dateutil.relativedelta import *\n",
    "import pandas as pd\n",
    "import os\n",
    "import csv\n",
    "from pytrends.request import TrendReq\n",
    "from scipy.stats import pearsonr\n",
    "import numpy as np\n",
    "import re\n",
    "import pytrends\n",
    "import bash\n",
    "import random\n",
    "import pdb\n",
    "import calendar\n",
    "import requests\n",
    "from requests.exceptions import Timeout\n",
    "from pytrends.exceptions import ResponseError\n",
    "from torpy.circuit import  CellTimeoutError"
   ]
  },
  {
   "cell_type": "code",
   "execution_count": 2,
   "id": "26b226d2",
   "metadata": {},
   "outputs": [],
   "source": [
    "def init():\n",
    "    #https://pypi.org/project/torpy/\n",
    "    #pip install torpy\n",
    "    from torpy import TorClient\n",
    "    hostname = 'ifconfig.me'  # It's possible use onion hostname here as well\n",
    "    with TorClient() as tor:\n",
    "        # Choose random guard node and create 3-hops circuit\n",
    "        with tor.create_circuit(3) as circuit:\n",
    "            # Create tor stream to host\n",
    "            with circuit.create_stream((hostname, 80)) as stream:\n",
    "                # Now we can communicate with host\n",
    "                stream.send(b'GET / HTTP/1.0\\r\\nHost: %s\\r\\n\\r\\n' % hostname.encode())\n",
    "                recv = stream.recv(1024)\n",
    "    return 0"
   ]
  },
  {
   "cell_type": "code",
   "execution_count": 3,
   "id": "eecf1545",
   "metadata": {},
   "outputs": [],
   "source": [
    "def column_name_to_mvt_and_remove_zero_values(df, geo_name):\n",
    "    df.rename(columns={df.columns[0]: f\"MVT_GT_{geo_name}\" }, inplace = True)\n",
    "    df = df[df[f\"MVT_GT_{geo_name}\"] != 0]\n",
    "    return df"
   ]
  },
  {
   "cell_type": "code",
   "execution_count": 4,
   "id": "a5a6a136",
   "metadata": {},
   "outputs": [],
   "source": [
    "def execute_init():\n",
    "    while True:\n",
    "        try:\n",
    "            init()\n",
    "            print(\"init status completed\")\n",
    "            break\n",
    "        except (TimeoutError, CellTimeoutError, ConnectionResetError) as error:\n",
    "            print(f\"Init Error Occured: {error}\")\n",
    "            print(\"Let me sleep for 10 seconds\")\n",
    "            print(\"ZZzzzz...\")\n",
    "            time.sleep(10)\n",
    "            print(\"Was a nice sleep, now let me continue...\")\n",
    "            pass\n",
    "    return 0"
   ]
  },
  {
   "cell_type": "code",
   "execution_count": 5,
   "id": "bd4bb7b0",
   "metadata": {},
   "outputs": [],
   "source": [
    "def GT_temp_df(start_date, end_date, geo_code, geo_name):\n",
    "    \n",
    "    temp_df = pd.DataFrame()\n",
    "    while len(temp_df) == 0:\n",
    "        try:\n",
    "            pytrends.build_payload(mvt_keyword, cat=0, timeframe=f\"{start_date} {end_date}\", geo = geo_code)\n",
    "            temp_df = pytrends.interest_over_time()\n",
    "\n",
    "        except (ResponseError, Timeout, ConnectionAbortedError, ConnectionError) as error:\n",
    "            try:\n",
    "                print(f\"GT Error Occured: {error}\")\n",
    "                !pip install pytrends --upgrade\n",
    "                #init()\n",
    "                #rint(f\"Let's Go, Onion!\")\n",
    "                pytrends.build_payload(mvt_keyword, cat=0, timeframe=f\"{start_date} {end_date}\", geo = geo_code)\n",
    "                temp_df = pytrends.interest_over_time()\n",
    "\n",
    "            except (ResponseError, Timeout, ConnectionAbortedError, ConnectionError) as error:\n",
    "                print(f\"GT Error Occured: {error}\")\n",
    "                print(f\"Let me sleep for 1 day, till {(datetime.now() + timedelta(days=1)).strftime('%m/%d/%Y, %H:%M:%S')}\")\n",
    "                print(\"ZZzzzz...\")\n",
    "                time.sleep(random.randint(60*60*24, 60*60*24+30,))\n",
    "                print(\"Was a nice sleep, now let me continue...\")\n",
    "\n",
    "\n",
    "    print(f\"Obtaining GT MVT from {start_date} to {end_date} in {geo_name} metro area\")\n",
    "    time.sleep(random.randint(120, 130))\n",
    "    temp_df = column_name_to_mvt_and_remove_zero_values(temp_df, geo_name)\n",
    "    return temp_df"
   ]
  },
  {
   "cell_type": "code",
   "execution_count": 6,
   "id": "7575af2b",
   "metadata": {},
   "outputs": [],
   "source": [
    "def combine_df_and_temp_df_and_rescale_by_overlap_factors(df, temp_df):\n",
    "    df = pd.concat([df, temp_df.iloc[:, 0]], axis = 1)\n",
    "    if len(df.columns) > 1:\n",
    "        factor_data = df.dropna(how = \"any\")\n",
    "        factor_divided = factor_data.iloc[:, 0]/factor_data.iloc[:, 1]\n",
    "        adjusted_factor = factor_divided.mean()\n",
    "        df.iloc[:,1] = df.iloc[:,1]*adjusted_factor\n",
    "        df = df.mean(axis = 1)\n",
    "    return df"
   ]
  },
  {
   "cell_type": "code",
   "execution_count": 7,
   "id": "4e4a11a5",
   "metadata": {},
   "outputs": [],
   "source": [
    "#init()"
   ]
  },
  {
   "cell_type": "code",
   "execution_count": 9,
   "id": "0f3e3a90",
   "metadata": {},
   "outputs": [],
   "source": [
    "#basic pytrend settings\n",
    "pytrends = TrendReq()"
   ]
  },
  {
   "cell_type": "code",
   "execution_count": 10,
   "id": "7e8795a5",
   "metadata": {
    "scrolled": true
   },
   "outputs": [
    {
     "data": {
      "text/plain": [
       "'\\nkw_list = [\"car stolen+find stolen car+report police stolen car+insurance car stolen-dream-check\",\\n    \"I raped+raped me+raped report police+being raped+been raped - dream - kobe - trump - porn\",\\n    \"my stolen+find my stolen+theft report police+someone stolen my - car - heart - dream - number\",\\n    \"burglary+home burglarized+my house broken into+my home broken into+burglary report police - dream\",\\n    \"my committed a crime+police arrested my+my arrested+my in jail+my in prison - arrested development\",\\n    \"I hate family+parents hate me+I hate my parents+I hate school+I hate teacher+I hate dad+I hate mom\"]\\n'"
      ]
     },
     "execution_count": 10,
     "metadata": {},
     "output_type": "execute_result"
    }
   ],
   "source": [
    "'''\n",
    "kw_list = [\"car stolen+find stolen car+report police stolen car+insurance car stolen-dream-check\",\n",
    "    \"I raped+raped me+raped report police+being raped+been raped - dream - kobe - trump - porn\",\n",
    "    \"my stolen+find my stolen+theft report police+someone stolen my - car - heart - dream - number\",\n",
    "    \"burglary+home burglarized+my house broken into+my home broken into+burglary report police - dream\",\n",
    "    \"my committed a crime+police arrested my+my arrested+my in jail+my in prison - arrested development\",\n",
    "    \"I hate family+parents hate me+I hate my parents+I hate school+I hate teacher+I hate dad+I hate mom\"]\n",
    "'''\n",
    "#years = [i for i in range(2010, 2016)]\n",
    "#print(years)\n",
    "#months = [i for i in range(1, 13, 3)] \n",
    "#print(months)"
   ]
  },
  {
   "cell_type": "markdown",
   "id": "30921c43",
   "metadata": {},
   "source": [
    "### GT Keywords"
   ]
  },
  {
   "cell_type": "code",
   "execution_count": 11,
   "id": "2105a9d7",
   "metadata": {},
   "outputs": [],
   "source": [
    "mvt_keyword = [\"car stolen+find stolen car+report police stolen car+insurance car stolen-dream-check\"] "
   ]
  },
  {
   "cell_type": "markdown",
   "id": "8df312d7",
   "metadata": {},
   "source": [
    "### Geo Location and Geo Codes"
   ]
  },
  {
   "cell_type": "code",
   "execution_count": 12,
   "id": "8273e0bf",
   "metadata": {},
   "outputs": [
    {
     "data": {
      "text/plain": [
       "'\\n\\n    \"US-NV-839\":\"Las Vegas NV\",\\n    \"US-WA-819\":\"Seattle-Tacoma WA\",\\n    \"US-CO-751\":\"Denver CO\", #including Aurora, CO\\n    \"US-PA-504\":\"Philadelphia PA\",\\n    \"US-GA-524\":\"Atlanta GA\",\\n    \"US-IN-602\":\"Chicago IL\",\\n    \"US-NH-506\":\"Boston MA-Manchester NH\",\\n    \"CA-ON\":\"Ontario\",\\n    \"US-KY-529\" : \"Louisville KY\",\\n    \"US-TN-640\" : \"Memphis TN\",\\n    \"US-WI-613\" : \"Minneapolis-St. Paul MN\",\\n    \"US-TN-659\" : \"Nashville TN\",\\n    \"US-AZ-789\" : \"Tucson AZ\",\\n    \"US-TX-623\" : \"Dallas-Ft. Worth TX\", # including Fort Worth, TX\\n    \"US-TX-641\" : \"San Antonio TX\",\\n    \"US-TX-618\" : \"Houston TX\",\\n    \"US-TX-635\" : \"Austin TX\",\\n'"
      ]
     },
     "execution_count": 12,
     "metadata": {},
     "output_type": "execute_result"
    }
   ],
   "source": [
    "# Top 50 the most populous cities in the U.S.\n",
    "region_code_dict = {\n",
    "\n",
    "    \n",
    "    \"US-NY-501\":\"New York NY\",\n",
    "    \"US-CA-807\":\"San Francisco-Oakland-San Jose CA\", #including Oakland, CA and San Jose CA\n",
    "    \"US-CA-803\":\"Los Angeles CA\", #including Long Beach, CA\n",
    "    \"US-CA-825\":\"San Diego CA\", \n",
    "    \"US-CA-807\":\"Sacramento-Stockton-Modesto CA\",\n",
    "    \"US-AZ-753\":\"Phoenix AZ\", #including Mesa, AZ\n",
    "    \"US-MI-505\":\"Detroit MI\",\n",
    "    \n",
    "    \"US-NC-517\" : \"Charlotte NC\",\n",
    "    \"US-OH-535\" : \"Columbus OH\",\n",
    "    \"US-FL-561\" : \"Jacksonville FL\",\n",
    "    \"US-MD-511\" : \"Washington DC (Hagerstown MD)\", # including Arlington VA\n",
    "    \"US-OK-650\" : \"Oklahoma City OK\",\n",
    "    \"US-TX-765\" : \"El Paso TX\",\n",
    "    \"US-OR-820\" : \"Portland OR\",\n",
    "    \"US-MD-512\" : \"Baltimore MD\",\n",
    "    \"US-WI-617\" : \"Milwaukee WI\",\n",
    "    \"US-NM-790\" : \"Albuquerque-Santa Fe NM\",\n",
    "    \"US-CA-866\" : \"Fresno-Visalia CA\",\n",
    "    \"US-MO-616\" : \"Kansas City MO\",\n",
    "    \"US-NE-652\" : \"Omaha NE\",\n",
    "    \"US-CO-752\" : \"Colorado Springs-Pueblo CO\",\n",
    "    \"US-NC-560\" : \"Raleigh-Durham (Fayetteville) NC\",\n",
    "    \"US-VA-544\" : \"Norfolk-Portsmouth-Newport News VA\", #including Virginia Beach, VA\n",
    "    \"US-FL-528\" : \"Miami-Ft. Lauderdale FL\",\n",
    "    \"US-CA-800\" : \"Bakersfield CA\",\n",
    "    \"US-OK-671\" : \"Tulsa OK\",\n",
    "    \"US-KS-678\" : \"Wichita-Hutchinson KS\"  \n",
    "                    }\n",
    "\n",
    "\"\"\"\n",
    "\n",
    "    \"US-NV-839\":\"Las Vegas NV\",\n",
    "    \"US-WA-819\":\"Seattle-Tacoma WA\",\n",
    "    \"US-CO-751\":\"Denver CO\", #including Aurora, CO\n",
    "    \"US-PA-504\":\"Philadelphia PA\",\n",
    "    \"US-GA-524\":\"Atlanta GA\",\n",
    "    \"US-IN-602\":\"Chicago IL\",\n",
    "    \"US-NH-506\":\"Boston MA-Manchester NH\",\n",
    "    \"CA-ON\":\"Ontario\",\n",
    "    \"US-KY-529\" : \"Louisville KY\",\n",
    "    \"US-TN-640\" : \"Memphis TN\",\n",
    "    \"US-WI-613\" : \"Minneapolis-St. Paul MN\",\n",
    "    \"US-TN-659\" : \"Nashville TN\",\n",
    "    \"US-AZ-789\" : \"Tucson AZ\",\n",
    "    \"US-TX-623\" : \"Dallas-Ft. Worth TX\", # including Fort Worth, TX\n",
    "    \"US-TX-641\" : \"San Antonio TX\",\n",
    "    \"US-TX-618\" : \"Houston TX\",\n",
    "    \"US-TX-635\" : \"Austin TX\",\n",
    "\"\"\"\n"
   ]
  },
  {
   "cell_type": "markdown",
   "id": "165194c8",
   "metadata": {},
   "source": [
    "### Dates (From, To)"
   ]
  },
  {
   "cell_type": "code",
   "execution_count": 13,
   "id": "5a40f85c",
   "metadata": {},
   "outputs": [],
   "source": [
    "From  = [\"2017-01-01\",\n",
    "         \"2018-01-01\"]\n",
    "\n",
    "To = [\"2021-12-31\",\n",
    "      \"2022-12-31\"]"
   ]
  },
  {
   "cell_type": "code",
   "execution_count": 14,
   "id": "7c8682e8",
   "metadata": {},
   "outputs": [
    {
     "data": {
      "text/plain": [
       "'2022-12-31'"
      ]
     },
     "execution_count": 14,
     "metadata": {},
     "output_type": "execute_result"
    }
   ],
   "source": [
    "To[-1]"
   ]
  },
  {
   "cell_type": "code",
   "execution_count": 15,
   "id": "f5722770",
   "metadata": {},
   "outputs": [
    {
     "data": {
      "text/plain": [
       "'2017-01-01'"
      ]
     },
     "execution_count": 15,
     "metadata": {},
     "output_type": "execute_result"
    }
   ],
   "source": [
    "From[0]"
   ]
  },
  {
   "cell_type": "markdown",
   "id": "a6f40044",
   "metadata": {},
   "source": [
    "## Execute Pytrends to Pull Daily Data from Google Trends"
   ]
  },
  {
   "cell_type": "code",
   "execution_count": 16,
   "id": "48a26924",
   "metadata": {
    "scrolled": false
   },
   "outputs": [
    {
     "ename": "ConnectionError",
     "evalue": "HTTPSConnectionPool(host='trends.google.com', port=443): Max retries exceeded with url: /trends/api/explore?hl=en-US&tz=360&req=%7B%22comparisonItem%22%3A+%5B%7B%22keyword%22%3A+%22car+stolen%2Bfind+stolen+car%2Breport+police+stolen+car%2Binsurance+car+stolen-dream-check%22%2C+%22time%22%3A+%222017-01-01+2021-12-31%22%2C+%22geo%22%3A+%22US-NY-501%22%7D%5D%2C+%22category%22%3A+0%2C+%22property%22%3A+%22%22%7D (Caused by NewConnectionError('<urllib3.connection.HTTPSConnection object at 0x0000026C8F420520>: Failed to establish a new connection: [Errno 11001] getaddrinfo failed'))",
     "output_type": "error",
     "traceback": [
      "\u001b[1;31m---------------------------------------------------------------------------\u001b[0m",
      "\u001b[1;31mgaierror\u001b[0m                                  Traceback (most recent call last)",
      "\u001b[1;32m~\\anaconda3\\lib\\site-packages\\urllib3\\connection.py\u001b[0m in \u001b[0;36m_new_conn\u001b[1;34m(self)\u001b[0m\n\u001b[0;32m    173\u001b[0m         \u001b[1;32mtry\u001b[0m\u001b[1;33m:\u001b[0m\u001b[1;33m\u001b[0m\u001b[1;33m\u001b[0m\u001b[0m\n\u001b[1;32m--> 174\u001b[1;33m             conn = connection.create_connection(\n\u001b[0m\u001b[0;32m    175\u001b[0m                 \u001b[1;33m(\u001b[0m\u001b[0mself\u001b[0m\u001b[1;33m.\u001b[0m\u001b[0m_dns_host\u001b[0m\u001b[1;33m,\u001b[0m \u001b[0mself\u001b[0m\u001b[1;33m.\u001b[0m\u001b[0mport\u001b[0m\u001b[1;33m)\u001b[0m\u001b[1;33m,\u001b[0m \u001b[0mself\u001b[0m\u001b[1;33m.\u001b[0m\u001b[0mtimeout\u001b[0m\u001b[1;33m,\u001b[0m \u001b[1;33m**\u001b[0m\u001b[0mextra_kw\u001b[0m\u001b[1;33m\u001b[0m\u001b[1;33m\u001b[0m\u001b[0m\n",
      "\u001b[1;32m~\\anaconda3\\lib\\site-packages\\urllib3\\util\\connection.py\u001b[0m in \u001b[0;36mcreate_connection\u001b[1;34m(address, timeout, source_address, socket_options)\u001b[0m\n\u001b[0;32m     71\u001b[0m \u001b[1;33m\u001b[0m\u001b[0m\n\u001b[1;32m---> 72\u001b[1;33m     \u001b[1;32mfor\u001b[0m \u001b[0mres\u001b[0m \u001b[1;32min\u001b[0m \u001b[0msocket\u001b[0m\u001b[1;33m.\u001b[0m\u001b[0mgetaddrinfo\u001b[0m\u001b[1;33m(\u001b[0m\u001b[0mhost\u001b[0m\u001b[1;33m,\u001b[0m \u001b[0mport\u001b[0m\u001b[1;33m,\u001b[0m \u001b[0mfamily\u001b[0m\u001b[1;33m,\u001b[0m \u001b[0msocket\u001b[0m\u001b[1;33m.\u001b[0m\u001b[0mSOCK_STREAM\u001b[0m\u001b[1;33m)\u001b[0m\u001b[1;33m:\u001b[0m\u001b[1;33m\u001b[0m\u001b[1;33m\u001b[0m\u001b[0m\n\u001b[0m\u001b[0;32m     73\u001b[0m         \u001b[0maf\u001b[0m\u001b[1;33m,\u001b[0m \u001b[0msocktype\u001b[0m\u001b[1;33m,\u001b[0m \u001b[0mproto\u001b[0m\u001b[1;33m,\u001b[0m \u001b[0mcanonname\u001b[0m\u001b[1;33m,\u001b[0m \u001b[0msa\u001b[0m \u001b[1;33m=\u001b[0m \u001b[0mres\u001b[0m\u001b[1;33m\u001b[0m\u001b[1;33m\u001b[0m\u001b[0m\n",
      "\u001b[1;32m~\\anaconda3\\lib\\socket.py\u001b[0m in \u001b[0;36mgetaddrinfo\u001b[1;34m(host, port, family, type, proto, flags)\u001b[0m\n\u001b[0;32m    953\u001b[0m     \u001b[0maddrlist\u001b[0m \u001b[1;33m=\u001b[0m \u001b[1;33m[\u001b[0m\u001b[1;33m]\u001b[0m\u001b[1;33m\u001b[0m\u001b[1;33m\u001b[0m\u001b[0m\n\u001b[1;32m--> 954\u001b[1;33m     \u001b[1;32mfor\u001b[0m \u001b[0mres\u001b[0m \u001b[1;32min\u001b[0m \u001b[0m_socket\u001b[0m\u001b[1;33m.\u001b[0m\u001b[0mgetaddrinfo\u001b[0m\u001b[1;33m(\u001b[0m\u001b[0mhost\u001b[0m\u001b[1;33m,\u001b[0m \u001b[0mport\u001b[0m\u001b[1;33m,\u001b[0m \u001b[0mfamily\u001b[0m\u001b[1;33m,\u001b[0m \u001b[0mtype\u001b[0m\u001b[1;33m,\u001b[0m \u001b[0mproto\u001b[0m\u001b[1;33m,\u001b[0m \u001b[0mflags\u001b[0m\u001b[1;33m)\u001b[0m\u001b[1;33m:\u001b[0m\u001b[1;33m\u001b[0m\u001b[1;33m\u001b[0m\u001b[0m\n\u001b[0m\u001b[0;32m    955\u001b[0m         \u001b[0maf\u001b[0m\u001b[1;33m,\u001b[0m \u001b[0msocktype\u001b[0m\u001b[1;33m,\u001b[0m \u001b[0mproto\u001b[0m\u001b[1;33m,\u001b[0m \u001b[0mcanonname\u001b[0m\u001b[1;33m,\u001b[0m \u001b[0msa\u001b[0m \u001b[1;33m=\u001b[0m \u001b[0mres\u001b[0m\u001b[1;33m\u001b[0m\u001b[1;33m\u001b[0m\u001b[0m\n",
      "\u001b[1;31mgaierror\u001b[0m: [Errno 11001] getaddrinfo failed",
      "\nDuring handling of the above exception, another exception occurred:\n",
      "\u001b[1;31mNewConnectionError\u001b[0m                        Traceback (most recent call last)",
      "\u001b[1;32m~\\anaconda3\\lib\\site-packages\\urllib3\\connectionpool.py\u001b[0m in \u001b[0;36murlopen\u001b[1;34m(self, method, url, body, headers, retries, redirect, assert_same_host, timeout, pool_timeout, release_conn, chunked, body_pos, **response_kw)\u001b[0m\n\u001b[0;32m    702\u001b[0m             \u001b[1;31m# Make the request on the httplib connection object.\u001b[0m\u001b[1;33m\u001b[0m\u001b[1;33m\u001b[0m\u001b[0m\n\u001b[1;32m--> 703\u001b[1;33m             httplib_response = self._make_request(\n\u001b[0m\u001b[0;32m    704\u001b[0m                 \u001b[0mconn\u001b[0m\u001b[1;33m,\u001b[0m\u001b[1;33m\u001b[0m\u001b[1;33m\u001b[0m\u001b[0m\n",
      "\u001b[1;32m~\\anaconda3\\lib\\site-packages\\urllib3\\connectionpool.py\u001b[0m in \u001b[0;36m_make_request\u001b[1;34m(self, conn, method, url, timeout, chunked, **httplib_request_kw)\u001b[0m\n\u001b[0;32m    385\u001b[0m         \u001b[1;32mtry\u001b[0m\u001b[1;33m:\u001b[0m\u001b[1;33m\u001b[0m\u001b[1;33m\u001b[0m\u001b[0m\n\u001b[1;32m--> 386\u001b[1;33m             \u001b[0mself\u001b[0m\u001b[1;33m.\u001b[0m\u001b[0m_validate_conn\u001b[0m\u001b[1;33m(\u001b[0m\u001b[0mconn\u001b[0m\u001b[1;33m)\u001b[0m\u001b[1;33m\u001b[0m\u001b[1;33m\u001b[0m\u001b[0m\n\u001b[0m\u001b[0;32m    387\u001b[0m         \u001b[1;32mexcept\u001b[0m \u001b[1;33m(\u001b[0m\u001b[0mSocketTimeout\u001b[0m\u001b[1;33m,\u001b[0m \u001b[0mBaseSSLError\u001b[0m\u001b[1;33m)\u001b[0m \u001b[1;32mas\u001b[0m \u001b[0me\u001b[0m\u001b[1;33m:\u001b[0m\u001b[1;33m\u001b[0m\u001b[1;33m\u001b[0m\u001b[0m\n",
      "\u001b[1;32m~\\anaconda3\\lib\\site-packages\\urllib3\\connectionpool.py\u001b[0m in \u001b[0;36m_validate_conn\u001b[1;34m(self, conn)\u001b[0m\n\u001b[0;32m   1041\u001b[0m         \u001b[1;32mif\u001b[0m \u001b[1;32mnot\u001b[0m \u001b[0mgetattr\u001b[0m\u001b[1;33m(\u001b[0m\u001b[0mconn\u001b[0m\u001b[1;33m,\u001b[0m \u001b[1;34m\"sock\"\u001b[0m\u001b[1;33m,\u001b[0m \u001b[1;32mNone\u001b[0m\u001b[1;33m)\u001b[0m\u001b[1;33m:\u001b[0m  \u001b[1;31m# AppEngine might not have  `.sock`\u001b[0m\u001b[1;33m\u001b[0m\u001b[1;33m\u001b[0m\u001b[0m\n\u001b[1;32m-> 1042\u001b[1;33m             \u001b[0mconn\u001b[0m\u001b[1;33m.\u001b[0m\u001b[0mconnect\u001b[0m\u001b[1;33m(\u001b[0m\u001b[1;33m)\u001b[0m\u001b[1;33m\u001b[0m\u001b[1;33m\u001b[0m\u001b[0m\n\u001b[0m\u001b[0;32m   1043\u001b[0m \u001b[1;33m\u001b[0m\u001b[0m\n",
      "\u001b[1;32m~\\anaconda3\\lib\\site-packages\\urllib3\\connection.py\u001b[0m in \u001b[0;36mconnect\u001b[1;34m(self)\u001b[0m\n\u001b[0;32m    357\u001b[0m         \u001b[1;31m# Add certificate verification\u001b[0m\u001b[1;33m\u001b[0m\u001b[1;33m\u001b[0m\u001b[0m\n\u001b[1;32m--> 358\u001b[1;33m         \u001b[0mself\u001b[0m\u001b[1;33m.\u001b[0m\u001b[0msock\u001b[0m \u001b[1;33m=\u001b[0m \u001b[0mconn\u001b[0m \u001b[1;33m=\u001b[0m \u001b[0mself\u001b[0m\u001b[1;33m.\u001b[0m\u001b[0m_new_conn\u001b[0m\u001b[1;33m(\u001b[0m\u001b[1;33m)\u001b[0m\u001b[1;33m\u001b[0m\u001b[1;33m\u001b[0m\u001b[0m\n\u001b[0m\u001b[0;32m    359\u001b[0m         \u001b[0mhostname\u001b[0m \u001b[1;33m=\u001b[0m \u001b[0mself\u001b[0m\u001b[1;33m.\u001b[0m\u001b[0mhost\u001b[0m\u001b[1;33m\u001b[0m\u001b[1;33m\u001b[0m\u001b[0m\n",
      "\u001b[1;32m~\\anaconda3\\lib\\site-packages\\urllib3\\connection.py\u001b[0m in \u001b[0;36m_new_conn\u001b[1;34m(self)\u001b[0m\n\u001b[0;32m    185\u001b[0m         \u001b[1;32mexcept\u001b[0m \u001b[0mSocketError\u001b[0m \u001b[1;32mas\u001b[0m \u001b[0me\u001b[0m\u001b[1;33m:\u001b[0m\u001b[1;33m\u001b[0m\u001b[1;33m\u001b[0m\u001b[0m\n\u001b[1;32m--> 186\u001b[1;33m             raise NewConnectionError(\n\u001b[0m\u001b[0;32m    187\u001b[0m                 \u001b[0mself\u001b[0m\u001b[1;33m,\u001b[0m \u001b[1;34m\"Failed to establish a new connection: %s\"\u001b[0m \u001b[1;33m%\u001b[0m \u001b[0me\u001b[0m\u001b[1;33m\u001b[0m\u001b[1;33m\u001b[0m\u001b[0m\n",
      "\u001b[1;31mNewConnectionError\u001b[0m: <urllib3.connection.HTTPSConnection object at 0x0000026C8F420520>: Failed to establish a new connection: [Errno 11001] getaddrinfo failed",
      "\nDuring handling of the above exception, another exception occurred:\n",
      "\u001b[1;31mMaxRetryError\u001b[0m                             Traceback (most recent call last)",
      "\u001b[1;32m~\\anaconda3\\lib\\site-packages\\requests\\adapters.py\u001b[0m in \u001b[0;36msend\u001b[1;34m(self, request, stream, timeout, verify, cert, proxies)\u001b[0m\n\u001b[0;32m    488\u001b[0m             \u001b[1;32mif\u001b[0m \u001b[1;32mnot\u001b[0m \u001b[0mchunked\u001b[0m\u001b[1;33m:\u001b[0m\u001b[1;33m\u001b[0m\u001b[1;33m\u001b[0m\u001b[0m\n\u001b[1;32m--> 489\u001b[1;33m                 resp = conn.urlopen(\n\u001b[0m\u001b[0;32m    490\u001b[0m                     \u001b[0mmethod\u001b[0m\u001b[1;33m=\u001b[0m\u001b[0mrequest\u001b[0m\u001b[1;33m.\u001b[0m\u001b[0mmethod\u001b[0m\u001b[1;33m,\u001b[0m\u001b[1;33m\u001b[0m\u001b[1;33m\u001b[0m\u001b[0m\n",
      "\u001b[1;32m~\\anaconda3\\lib\\site-packages\\urllib3\\connectionpool.py\u001b[0m in \u001b[0;36murlopen\u001b[1;34m(self, method, url, body, headers, retries, redirect, assert_same_host, timeout, pool_timeout, release_conn, chunked, body_pos, **response_kw)\u001b[0m\n\u001b[0;32m    786\u001b[0m \u001b[1;33m\u001b[0m\u001b[0m\n\u001b[1;32m--> 787\u001b[1;33m             retries = retries.increment(\n\u001b[0m\u001b[0;32m    788\u001b[0m                 \u001b[0mmethod\u001b[0m\u001b[1;33m,\u001b[0m \u001b[0murl\u001b[0m\u001b[1;33m,\u001b[0m \u001b[0merror\u001b[0m\u001b[1;33m=\u001b[0m\u001b[0me\u001b[0m\u001b[1;33m,\u001b[0m \u001b[0m_pool\u001b[0m\u001b[1;33m=\u001b[0m\u001b[0mself\u001b[0m\u001b[1;33m,\u001b[0m \u001b[0m_stacktrace\u001b[0m\u001b[1;33m=\u001b[0m\u001b[0msys\u001b[0m\u001b[1;33m.\u001b[0m\u001b[0mexc_info\u001b[0m\u001b[1;33m(\u001b[0m\u001b[1;33m)\u001b[0m\u001b[1;33m[\u001b[0m\u001b[1;36m2\u001b[0m\u001b[1;33m]\u001b[0m\u001b[1;33m\u001b[0m\u001b[1;33m\u001b[0m\u001b[0m\n",
      "\u001b[1;32m~\\anaconda3\\lib\\site-packages\\urllib3\\util\\retry.py\u001b[0m in \u001b[0;36mincrement\u001b[1;34m(self, method, url, response, error, _pool, _stacktrace)\u001b[0m\n\u001b[0;32m    591\u001b[0m         \u001b[1;32mif\u001b[0m \u001b[0mnew_retry\u001b[0m\u001b[1;33m.\u001b[0m\u001b[0mis_exhausted\u001b[0m\u001b[1;33m(\u001b[0m\u001b[1;33m)\u001b[0m\u001b[1;33m:\u001b[0m\u001b[1;33m\u001b[0m\u001b[1;33m\u001b[0m\u001b[0m\n\u001b[1;32m--> 592\u001b[1;33m             \u001b[1;32mraise\u001b[0m \u001b[0mMaxRetryError\u001b[0m\u001b[1;33m(\u001b[0m\u001b[0m_pool\u001b[0m\u001b[1;33m,\u001b[0m \u001b[0murl\u001b[0m\u001b[1;33m,\u001b[0m \u001b[0merror\u001b[0m \u001b[1;32mor\u001b[0m \u001b[0mResponseError\u001b[0m\u001b[1;33m(\u001b[0m\u001b[0mcause\u001b[0m\u001b[1;33m)\u001b[0m\u001b[1;33m)\u001b[0m\u001b[1;33m\u001b[0m\u001b[1;33m\u001b[0m\u001b[0m\n\u001b[0m\u001b[0;32m    593\u001b[0m \u001b[1;33m\u001b[0m\u001b[0m\n",
      "\u001b[1;31mMaxRetryError\u001b[0m: HTTPSConnectionPool(host='trends.google.com', port=443): Max retries exceeded with url: /trends/api/explore?hl=en-US&tz=360&req=%7B%22comparisonItem%22%3A+%5B%7B%22keyword%22%3A+%22car+stolen%2Bfind+stolen+car%2Breport+police+stolen+car%2Binsurance+car+stolen-dream-check%22%2C+%22time%22%3A+%222017-01-01+2021-12-31%22%2C+%22geo%22%3A+%22US-NY-501%22%7D%5D%2C+%22category%22%3A+0%2C+%22property%22%3A+%22%22%7D (Caused by NewConnectionError('<urllib3.connection.HTTPSConnection object at 0x0000026C8F420520>: Failed to establish a new connection: [Errno 11001] getaddrinfo failed'))",
      "\nDuring handling of the above exception, another exception occurred:\n",
      "\u001b[1;31mConnectionError\u001b[0m                           Traceback (most recent call last)",
      "\u001b[1;32m~\\AppData\\Local\\Temp\\ipykernel_10044\\796331457.py\u001b[0m in \u001b[0;36m<module>\u001b[1;34m\u001b[0m\n\u001b[0;32m      6\u001b[0m         \u001b[1;32mfor\u001b[0m \u001b[0mstart_date\u001b[0m\u001b[1;33m,\u001b[0m \u001b[0mend_date\u001b[0m \u001b[1;32min\u001b[0m \u001b[0mzip\u001b[0m\u001b[1;33m(\u001b[0m\u001b[0mFrom\u001b[0m\u001b[1;33m,\u001b[0m \u001b[0mTo\u001b[0m\u001b[1;33m)\u001b[0m\u001b[1;33m:\u001b[0m\u001b[1;33m\u001b[0m\u001b[1;33m\u001b[0m\u001b[0m\n\u001b[0;32m      7\u001b[0m             \u001b[1;31m#Get daily estimates with adjusted factors [mean(old/new) * new]\u001b[0m\u001b[1;33m\u001b[0m\u001b[1;33m\u001b[0m\u001b[0m\n\u001b[1;32m----> 8\u001b[1;33m             \u001b[0mtemp_df\u001b[0m \u001b[1;33m=\u001b[0m \u001b[0mGT_temp_df\u001b[0m\u001b[1;33m(\u001b[0m\u001b[0mstart_date\u001b[0m\u001b[1;33m,\u001b[0m \u001b[0mend_date\u001b[0m\u001b[1;33m,\u001b[0m \u001b[0mgeo_code\u001b[0m\u001b[1;33m,\u001b[0m \u001b[0mgeo_name\u001b[0m\u001b[1;33m)\u001b[0m\u001b[1;33m\u001b[0m\u001b[1;33m\u001b[0m\u001b[0m\n\u001b[0m\u001b[0;32m      9\u001b[0m             \u001b[0mdf\u001b[0m \u001b[1;33m=\u001b[0m \u001b[0mcombine_df_and_temp_df_and_rescale_by_overlap_factors\u001b[0m\u001b[1;33m(\u001b[0m\u001b[0mdf\u001b[0m\u001b[1;33m,\u001b[0m \u001b[0mtemp_df\u001b[0m\u001b[1;33m)\u001b[0m\u001b[1;33m\u001b[0m\u001b[1;33m\u001b[0m\u001b[0m\n\u001b[0;32m     10\u001b[0m \u001b[1;33m\u001b[0m\u001b[0m\n",
      "\u001b[1;32m~\\AppData\\Local\\Temp\\ipykernel_10044\\888795254.py\u001b[0m in \u001b[0;36mGT_temp_df\u001b[1;34m(start_date, end_date, geo_code, geo_name)\u001b[0m\n\u001b[0;32m      4\u001b[0m     \u001b[1;32mwhile\u001b[0m \u001b[0mlen\u001b[0m\u001b[1;33m(\u001b[0m\u001b[0mtemp_df\u001b[0m\u001b[1;33m)\u001b[0m \u001b[1;33m==\u001b[0m \u001b[1;36m0\u001b[0m\u001b[1;33m:\u001b[0m\u001b[1;33m\u001b[0m\u001b[1;33m\u001b[0m\u001b[0m\n\u001b[0;32m      5\u001b[0m         \u001b[1;32mtry\u001b[0m\u001b[1;33m:\u001b[0m\u001b[1;33m\u001b[0m\u001b[1;33m\u001b[0m\u001b[0m\n\u001b[1;32m----> 6\u001b[1;33m             \u001b[0mpytrends\u001b[0m\u001b[1;33m.\u001b[0m\u001b[0mbuild_payload\u001b[0m\u001b[1;33m(\u001b[0m\u001b[0mmvt_keyword\u001b[0m\u001b[1;33m,\u001b[0m \u001b[0mcat\u001b[0m\u001b[1;33m=\u001b[0m\u001b[1;36m0\u001b[0m\u001b[1;33m,\u001b[0m \u001b[0mtimeframe\u001b[0m\u001b[1;33m=\u001b[0m\u001b[1;34mf\"{start_date} {end_date}\"\u001b[0m\u001b[1;33m,\u001b[0m \u001b[0mgeo\u001b[0m \u001b[1;33m=\u001b[0m \u001b[0mgeo_code\u001b[0m\u001b[1;33m)\u001b[0m\u001b[1;33m\u001b[0m\u001b[1;33m\u001b[0m\u001b[0m\n\u001b[0m\u001b[0;32m      7\u001b[0m             \u001b[0mtemp_df\u001b[0m \u001b[1;33m=\u001b[0m \u001b[0mpytrends\u001b[0m\u001b[1;33m.\u001b[0m\u001b[0minterest_over_time\u001b[0m\u001b[1;33m(\u001b[0m\u001b[1;33m)\u001b[0m\u001b[1;33m\u001b[0m\u001b[1;33m\u001b[0m\u001b[0m\n\u001b[0;32m      8\u001b[0m \u001b[1;33m\u001b[0m\u001b[0m\n",
      "\u001b[1;32m~\\anaconda3\\lib\\site-packages\\pytrends\\request.py\u001b[0m in \u001b[0;36mbuild_payload\u001b[1;34m(self, kw_list, cat, timeframe, geo, gprop)\u001b[0m\n\u001b[0;32m    187\u001b[0m         \u001b[0mself\u001b[0m\u001b[1;33m.\u001b[0m\u001b[0mtoken_payload\u001b[0m\u001b[1;33m[\u001b[0m\u001b[1;34m'req'\u001b[0m\u001b[1;33m]\u001b[0m \u001b[1;33m=\u001b[0m \u001b[0mjson\u001b[0m\u001b[1;33m.\u001b[0m\u001b[0mdumps\u001b[0m\u001b[1;33m(\u001b[0m\u001b[0mself\u001b[0m\u001b[1;33m.\u001b[0m\u001b[0mtoken_payload\u001b[0m\u001b[1;33m[\u001b[0m\u001b[1;34m'req'\u001b[0m\u001b[1;33m]\u001b[0m\u001b[1;33m)\u001b[0m\u001b[1;33m\u001b[0m\u001b[1;33m\u001b[0m\u001b[0m\n\u001b[0;32m    188\u001b[0m         \u001b[1;31m# get tokens\u001b[0m\u001b[1;33m\u001b[0m\u001b[1;33m\u001b[0m\u001b[0m\n\u001b[1;32m--> 189\u001b[1;33m         \u001b[0mself\u001b[0m\u001b[1;33m.\u001b[0m\u001b[0m_tokens\u001b[0m\u001b[1;33m(\u001b[0m\u001b[1;33m)\u001b[0m\u001b[1;33m\u001b[0m\u001b[1;33m\u001b[0m\u001b[0m\n\u001b[0m\u001b[0;32m    190\u001b[0m         \u001b[1;32mreturn\u001b[0m\u001b[1;33m\u001b[0m\u001b[1;33m\u001b[0m\u001b[0m\n\u001b[0;32m    191\u001b[0m \u001b[1;33m\u001b[0m\u001b[0m\n",
      "\u001b[1;32m~\\anaconda3\\lib\\site-packages\\pytrends\\request.py\u001b[0m in \u001b[0;36m_tokens\u001b[1;34m(self)\u001b[0m\n\u001b[0;32m    193\u001b[0m         \u001b[1;34m\"\"\"Makes request to Google to get API tokens for interest over time, interest by region and related queries\"\"\"\u001b[0m\u001b[1;33m\u001b[0m\u001b[1;33m\u001b[0m\u001b[0m\n\u001b[0;32m    194\u001b[0m         \u001b[1;31m# make the request and parse the returned json\u001b[0m\u001b[1;33m\u001b[0m\u001b[1;33m\u001b[0m\u001b[0m\n\u001b[1;32m--> 195\u001b[1;33m         widget_dicts = self._get_data(\n\u001b[0m\u001b[0;32m    196\u001b[0m             \u001b[0murl\u001b[0m\u001b[1;33m=\u001b[0m\u001b[0mTrendReq\u001b[0m\u001b[1;33m.\u001b[0m\u001b[0mGENERAL_URL\u001b[0m\u001b[1;33m,\u001b[0m\u001b[1;33m\u001b[0m\u001b[1;33m\u001b[0m\u001b[0m\n\u001b[0;32m    197\u001b[0m             \u001b[0mmethod\u001b[0m\u001b[1;33m=\u001b[0m\u001b[0mTrendReq\u001b[0m\u001b[1;33m.\u001b[0m\u001b[0mGET_METHOD\u001b[0m\u001b[1;33m,\u001b[0m\u001b[1;33m\u001b[0m\u001b[1;33m\u001b[0m\u001b[0m\n",
      "\u001b[1;32m~\\anaconda3\\lib\\site-packages\\pytrends\\request.py\u001b[0m in \u001b[0;36m_get_data\u001b[1;34m(self, url, method, trim_chars, **kwargs)\u001b[0m\n\u001b[0;32m    138\u001b[0m                               **self.requests_args)  # DO NOT USE retries or backoff_factor here\n\u001b[0;32m    139\u001b[0m         \u001b[1;32melse\u001b[0m\u001b[1;33m:\u001b[0m\u001b[1;33m\u001b[0m\u001b[1;33m\u001b[0m\u001b[0m\n\u001b[1;32m--> 140\u001b[1;33m             response = s.get(url, timeout=self.timeout, cookies=self.cookies,\n\u001b[0m\u001b[0;32m    141\u001b[0m                              **kwargs, **self.requests_args)  # DO NOT USE retries or backoff_factor here\n\u001b[0;32m    142\u001b[0m         \u001b[1;31m# check if the response contains json and throw an exception otherwise\u001b[0m\u001b[1;33m\u001b[0m\u001b[1;33m\u001b[0m\u001b[0m\n",
      "\u001b[1;32m~\\anaconda3\\lib\\site-packages\\requests\\sessions.py\u001b[0m in \u001b[0;36mget\u001b[1;34m(self, url, **kwargs)\u001b[0m\n\u001b[0;32m    598\u001b[0m \u001b[1;33m\u001b[0m\u001b[0m\n\u001b[0;32m    599\u001b[0m         \u001b[0mkwargs\u001b[0m\u001b[1;33m.\u001b[0m\u001b[0msetdefault\u001b[0m\u001b[1;33m(\u001b[0m\u001b[1;34m\"allow_redirects\"\u001b[0m\u001b[1;33m,\u001b[0m \u001b[1;32mTrue\u001b[0m\u001b[1;33m)\u001b[0m\u001b[1;33m\u001b[0m\u001b[1;33m\u001b[0m\u001b[0m\n\u001b[1;32m--> 600\u001b[1;33m         \u001b[1;32mreturn\u001b[0m \u001b[0mself\u001b[0m\u001b[1;33m.\u001b[0m\u001b[0mrequest\u001b[0m\u001b[1;33m(\u001b[0m\u001b[1;34m\"GET\"\u001b[0m\u001b[1;33m,\u001b[0m \u001b[0murl\u001b[0m\u001b[1;33m,\u001b[0m \u001b[1;33m**\u001b[0m\u001b[0mkwargs\u001b[0m\u001b[1;33m)\u001b[0m\u001b[1;33m\u001b[0m\u001b[1;33m\u001b[0m\u001b[0m\n\u001b[0m\u001b[0;32m    601\u001b[0m \u001b[1;33m\u001b[0m\u001b[0m\n\u001b[0;32m    602\u001b[0m     \u001b[1;32mdef\u001b[0m \u001b[0moptions\u001b[0m\u001b[1;33m(\u001b[0m\u001b[0mself\u001b[0m\u001b[1;33m,\u001b[0m \u001b[0murl\u001b[0m\u001b[1;33m,\u001b[0m \u001b[1;33m**\u001b[0m\u001b[0mkwargs\u001b[0m\u001b[1;33m)\u001b[0m\u001b[1;33m:\u001b[0m\u001b[1;33m\u001b[0m\u001b[1;33m\u001b[0m\u001b[0m\n",
      "\u001b[1;32m~\\anaconda3\\lib\\site-packages\\requests\\sessions.py\u001b[0m in \u001b[0;36mrequest\u001b[1;34m(self, method, url, params, data, headers, cookies, files, auth, timeout, allow_redirects, proxies, hooks, stream, verify, cert, json)\u001b[0m\n\u001b[0;32m    585\u001b[0m         }\n\u001b[0;32m    586\u001b[0m         \u001b[0msend_kwargs\u001b[0m\u001b[1;33m.\u001b[0m\u001b[0mupdate\u001b[0m\u001b[1;33m(\u001b[0m\u001b[0msettings\u001b[0m\u001b[1;33m)\u001b[0m\u001b[1;33m\u001b[0m\u001b[1;33m\u001b[0m\u001b[0m\n\u001b[1;32m--> 587\u001b[1;33m         \u001b[0mresp\u001b[0m \u001b[1;33m=\u001b[0m \u001b[0mself\u001b[0m\u001b[1;33m.\u001b[0m\u001b[0msend\u001b[0m\u001b[1;33m(\u001b[0m\u001b[0mprep\u001b[0m\u001b[1;33m,\u001b[0m \u001b[1;33m**\u001b[0m\u001b[0msend_kwargs\u001b[0m\u001b[1;33m)\u001b[0m\u001b[1;33m\u001b[0m\u001b[1;33m\u001b[0m\u001b[0m\n\u001b[0m\u001b[0;32m    588\u001b[0m \u001b[1;33m\u001b[0m\u001b[0m\n\u001b[0;32m    589\u001b[0m         \u001b[1;32mreturn\u001b[0m \u001b[0mresp\u001b[0m\u001b[1;33m\u001b[0m\u001b[1;33m\u001b[0m\u001b[0m\n",
      "\u001b[1;32m~\\anaconda3\\lib\\site-packages\\requests\\sessions.py\u001b[0m in \u001b[0;36msend\u001b[1;34m(self, request, **kwargs)\u001b[0m\n\u001b[0;32m    699\u001b[0m \u001b[1;33m\u001b[0m\u001b[0m\n\u001b[0;32m    700\u001b[0m         \u001b[1;31m# Send the request\u001b[0m\u001b[1;33m\u001b[0m\u001b[1;33m\u001b[0m\u001b[0m\n\u001b[1;32m--> 701\u001b[1;33m         \u001b[0mr\u001b[0m \u001b[1;33m=\u001b[0m \u001b[0madapter\u001b[0m\u001b[1;33m.\u001b[0m\u001b[0msend\u001b[0m\u001b[1;33m(\u001b[0m\u001b[0mrequest\u001b[0m\u001b[1;33m,\u001b[0m \u001b[1;33m**\u001b[0m\u001b[0mkwargs\u001b[0m\u001b[1;33m)\u001b[0m\u001b[1;33m\u001b[0m\u001b[1;33m\u001b[0m\u001b[0m\n\u001b[0m\u001b[0;32m    702\u001b[0m \u001b[1;33m\u001b[0m\u001b[0m\n\u001b[0;32m    703\u001b[0m         \u001b[1;31m# Total elapsed time of the request (approximately)\u001b[0m\u001b[1;33m\u001b[0m\u001b[1;33m\u001b[0m\u001b[0m\n",
      "\u001b[1;32m~\\anaconda3\\lib\\site-packages\\requests\\adapters.py\u001b[0m in \u001b[0;36msend\u001b[1;34m(self, request, stream, timeout, verify, cert, proxies)\u001b[0m\n\u001b[0;32m    563\u001b[0m                 \u001b[1;32mraise\u001b[0m \u001b[0mSSLError\u001b[0m\u001b[1;33m(\u001b[0m\u001b[0me\u001b[0m\u001b[1;33m,\u001b[0m \u001b[0mrequest\u001b[0m\u001b[1;33m=\u001b[0m\u001b[0mrequest\u001b[0m\u001b[1;33m)\u001b[0m\u001b[1;33m\u001b[0m\u001b[1;33m\u001b[0m\u001b[0m\n\u001b[0;32m    564\u001b[0m \u001b[1;33m\u001b[0m\u001b[0m\n\u001b[1;32m--> 565\u001b[1;33m             \u001b[1;32mraise\u001b[0m \u001b[0mConnectionError\u001b[0m\u001b[1;33m(\u001b[0m\u001b[0me\u001b[0m\u001b[1;33m,\u001b[0m \u001b[0mrequest\u001b[0m\u001b[1;33m=\u001b[0m\u001b[0mrequest\u001b[0m\u001b[1;33m)\u001b[0m\u001b[1;33m\u001b[0m\u001b[1;33m\u001b[0m\u001b[0m\n\u001b[0m\u001b[0;32m    566\u001b[0m \u001b[1;33m\u001b[0m\u001b[0m\n\u001b[0;32m    567\u001b[0m         \u001b[1;32mexcept\u001b[0m \u001b[0mClosedPoolError\u001b[0m \u001b[1;32mas\u001b[0m \u001b[0me\u001b[0m\u001b[1;33m:\u001b[0m\u001b[1;33m\u001b[0m\u001b[1;33m\u001b[0m\u001b[0m\n",
      "\u001b[1;31mConnectionError\u001b[0m: HTTPSConnectionPool(host='trends.google.com', port=443): Max retries exceeded with url: /trends/api/explore?hl=en-US&tz=360&req=%7B%22comparisonItem%22%3A+%5B%7B%22keyword%22%3A+%22car+stolen%2Bfind+stolen+car%2Breport+police+stolen+car%2Binsurance+car+stolen-dream-check%22%2C+%22time%22%3A+%222017-01-01+2021-12-31%22%2C+%22geo%22%3A+%22US-NY-501%22%7D%5D%2C+%22category%22%3A+0%2C+%22property%22%3A+%22%22%7D (Caused by NewConnectionError('<urllib3.connection.HTTPSConnection object at 0x0000026C8F420520>: Failed to establish a new connection: [Errno 11001] getaddrinfo failed'))"
     ]
    }
   ],
   "source": [
    "\n",
    "#Get 100 times weekly GT MVT data per city\n",
    "for times in range(1):\n",
    "    for geo_code, geo_name in zip(region_code_dict.keys(), region_code_dict.values()):\n",
    "        df = pd.DataFrame()\n",
    "\n",
    "        for start_date, end_date in zip(From, To):\n",
    "            #Get daily estimates with adjusted factors [mean(old/new) * new]\n",
    "            temp_df = GT_temp_df(start_date, end_date, geo_code, geo_name)\n",
    "            df = combine_df_and_temp_df_and_rescale_by_overlap_factors(df, temp_df)\n",
    "\n",
    "        df.name = f\"MVT_GT_{geo_name}\"\n",
    "        df.to_csv(f\"{geo_name}_weekly_{From[0]}_{To[-1]}_{pd.Timestamp.now().strftime('%Y%m%d_%H_%M')}.csv\")\n",
    "        print(f\"{geo_name}_weekly_{From[0]}_{To[-1]}_{pd.Timestamp.now().strftime('%Y%m%d_%H_%M')} file saved\")"
   ]
  },
  {
   "cell_type": "code",
   "execution_count": null,
   "id": "015e589e",
   "metadata": {},
   "outputs": [],
   "source": [
    "test.plot(figsize=(20, 12),  kind ='line')"
   ]
  },
  {
   "cell_type": "code",
   "execution_count": null,
   "id": "edc81da1",
   "metadata": {},
   "outputs": [],
   "source": [
    "[print(i/25*23) for i in test2[\"car stolen+find stolen car+report police stolen car+insurance car stolen-dream-check\"]]"
   ]
  },
  {
   "cell_type": "code",
   "execution_count": null,
   "id": "ffdf2371",
   "metadata": {},
   "outputs": [],
   "source": [
    "kw_list=['Facebook', 'Apple', 'Amazon', 'Netflix', 'Google']\n",
    "pytrend = TrendReq()\n",
    "#search interest per region\n",
    "#run model for keywords (can also be competitors)\n",
    "pytrend.build_payload(kw_list, timeframe='today 1-m')\n",
    "\n",
    "# Interest by Region\n",
    "regiondf = pytrend.interest_by_region()\n",
    "#looking at rows where all values are not equal to 0\n",
    "regiondf = regiondf[(regiondf != 0).all(1)]\n",
    "\n",
    "#drop all rows that have null values in all columns\n",
    "regiondf.dropna(how='all',axis=0, inplace=True)\n",
    "\n",
    "#visualise\n",
    "regiondf.plot(figsize=(20, 12), y=kw_list, kind ='bar')"
   ]
  },
  {
   "cell_type": "code",
   "execution_count": null,
   "id": "ecad1d3c",
   "metadata": {},
   "outputs": [],
   "source": [
    "historicaldf = pytrend.get_historical_interest(['Facebook', 'Apple', 'Amazon', 'Netflix', 'Google'], \n",
    "                                               year_start=2020, month_start=1, day_start=1, hour_start=0, \n",
    "                                               year_end=2020, month_end=12, day_end=31, hour_end=0, \n",
    "                                               cat=0, geo='en-US', gprop='', sleep=0)\n",
    "\n",
    "#visualise\n",
    "#plot a timeseries chart\n",
    "historicaldf.plot(figsize=(20, 12))\n",
    "\n",
    "#plot seperate graphs, using theprovided keywords\n",
    "historicaldf.plot(subplots=True, figsize=(20, 12))"
   ]
  },
  {
   "cell_type": "code",
   "execution_count": null,
   "id": "dfd89f89",
   "metadata": {},
   "outputs": [],
   "source": [
    "def gt_func(start_date_list, end_date_list, resolution, sample_size, path):\n",
    "#get monthly GT data\n",
    "    import inflect\n",
    "    #give ordinal names to numbers\n",
    "    p = inflect.engine()\n",
    "\n",
    "    for t in range(sample_size): #sample from GT 100 times\n",
    "        #time.sleep(random.randint(21600,21668)) # 6 hrs\n",
    "        print(f\"The {p.ordinal(t+1)} pull from GT\")\n",
    "        qt_list = [\"Q1\",\"Q2\",\"Q3\",\"Q4\"]\n",
    "        count = 0\n",
    "        for i, j in zip(start_date_list, end_date_list):\n",
    "            df = pd.DataFrame()\n",
    "            #Q1 - Q4\n",
    "            if count == 4:\n",
    "                count = 0\n",
    "            for k in kw_list:\n",
    "                #q = the name of the quarter\n",
    "                q = qt_list[count]\n",
    "                try:\n",
    "                    pytrends.build_payload(k, cat=0, timeframe=f'{i.strftime(\"%Y-%m-%d\")} {j.strftime(\"%Y-%m-%d\")}',  geo='US', gprop='')\n",
    "                    df = pd.concat([df, pytrends.interest_by_region(resolution=\"DMA\", inc_low_vol = False, inc_geo_code = False)], axis = 1)\n",
    "                    time.sleep(random.randint(120, 130))\n",
    "\n",
    "                except (Timeout, ResponseError) as e:\n",
    "                        print(f'!!{i.strftime(\"%Y-%m-%d\")} {j.strftime(\"%Y-%m-%d\")}!! ReadTimeoutError')\n",
    "                        print(f\"Whoops! ReadTimeoutError, the {p.ordinal(t+1)} pull aborted, now we take a rest\")\n",
    "                        print(dt.datetime.now().strftime(\"%Y/%m/%d_%H:%M:%S\"))\n",
    "                        time.sleep(random.randint(86668, 86888)) # 24 hrs\n",
    "                        print(f\"Rest enough, now we continue!\")\n",
    "\n",
    "                        #continue working\n",
    "                        pytrends.build_payload(k, cat=0, timeframe=f'{i.strftime(\"%Y-%m-%d\")} {j.strftime(\"%Y-%m-%d\")}',  geo='US', gprop='')\n",
    "                        df = pd.concat([df, pytrends.interest_by_region(resolution=\"DMA\", inc_low_vol=False, inc_geo_code=False)], axis = 1)\n",
    "                        time.sleep(random.randint(120, 130))\n",
    "\n",
    "            df.columns = [f\"MVT_{i.strftime('%Y')}_{q}\", \n",
    "                          f\"rape_{i.strftime('%Y')}_{q}\", \n",
    "                          f\"larceny_{i.strftime('%Y')}_{q}\", \n",
    "                          f\"burglary_{i.strftime('%Y')}_{q}\", \n",
    "                          f\"known_deliq_{i.strftime('%Y')}_{q}\", \n",
    "                          f\"low_social_cont_{i.strftime('%Y')}_{q}\"]\n",
    "            df.to_csv(f'{path}gt_crime_{i.strftime(\"%Y\")}_{q}_{dt.datetime.now().strftime(\"%Y%m%d_%H-%M-%S\")}.csv')\n",
    "            count += 1\n",
    "        print(f\"The {p.ordinal(t+1)} pull from GT Done!!\")\n",
    "        print(f'Time finished: {dt.datetime.now().strftime(\"%Y/%m/%d, %H:%M\")}')\n",
    "        time.sleep(random.randint(10800,10868)) # 3 hrs\n",
    "\n",
    "\n",
    "    print(f\"Congratulations, Well Done!\")"
   ]
  }
 ],
 "metadata": {
  "kernelspec": {
   "display_name": "Python 3 (ipykernel)",
   "language": "python",
   "name": "python3"
  },
  "language_info": {
   "codemirror_mode": {
    "name": "ipython",
    "version": 3
   },
   "file_extension": ".py",
   "mimetype": "text/x-python",
   "name": "python",
   "nbconvert_exporter": "python",
   "pygments_lexer": "ipython3",
   "version": "3.9.13"
  }
 },
 "nbformat": 4,
 "nbformat_minor": 5
}
